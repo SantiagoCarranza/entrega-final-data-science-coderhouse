{
 "cells": [
  {
   "cell_type": "code",
   "execution_count": 1,
   "metadata": {
    "executionInfo": {
     "elapsed": 48,
     "status": "ok",
     "timestamp": 1632363677671,
     "user": {
      "displayName": "Santiago Carranza",
      "photoUrl": "https://lh3.googleusercontent.com/a/default-user=s64",
      "userId": "13785193030760836589"
     },
     "user_tz": 180
    },
    "id": "DkDWKBHumiIh"
   },
   "outputs": [],
   "source": [
    "#Importamos la librerias\n",
    "\n",
    "import pandas as pd\n",
    "import numpy as np\n",
    "import matplotlib.pyplot as plt\n",
    "import seaborn as sns\n",
    "\n"
   ]
  },
  {
   "cell_type": "code",
   "execution_count": 2,
   "metadata": {},
   "outputs": [],
   "source": [
    "df = pd.read_csv('datasets/dataset_filtrado.csv')"
   ]
  },
  {
   "cell_type": "markdown",
   "metadata": {
    "id": "bvv1edU4miIp"
   },
   "source": [
    "# Obtuvimos la totalidad de registros por columnas"
   ]
  },
  {
   "cell_type": "code",
   "execution_count": 3,
   "metadata": {
    "colab": {
     "base_uri": "https://localhost:8080/"
    },
    "executionInfo": {
     "elapsed": 48,
     "status": "ok",
     "timestamp": 1632363677672,
     "user": {
      "displayName": "Santiago Carranza",
      "photoUrl": "https://lh3.googleusercontent.com/a/default-user=s64",
      "userId": "13785193030760836589"
     },
     "user_tz": 180
    },
    "id": "rgzKSdbfmiIp",
    "outputId": "7c77e1de-11c6-4413-d3d2-45bb1ddd57dc"
   },
   "outputs": [
    {
     "name": "stdout",
     "output_type": "stream",
     "text": [
      "<class 'pandas.core.frame.DataFrame'>\n",
      "RangeIndex: 86891 entries, 0 to 86890\n",
      "Data columns (total 45 columns):\n",
      " #   Column                           Non-Null Count  Dtype  \n",
      "---  ------                           --------------  -----  \n",
      " 0   Atributo Potencia                74332 non-null  object \n",
      " 1   Atributo Largo                   75085 non-null  object \n",
      " 2   Atributo Cilindrada              75144 non-null  object \n",
      " 3   Atributo Capacidad de personas   75471 non-null  float64\n",
      " 4   Atributo Control de tracción     77992 non-null  object \n",
      " 5   Atributo Motor                   78232 non-null  object \n",
      " 6   Atributo Transmisión             79204 non-null  object \n",
      " 7   Latitud                          86285 non-null  float64\n",
      " 8   Longitud                         86285 non-null  float64\n",
      " 9   Link Miniatura                   86548 non-null  object \n",
      " 10  Registro Vendedor                86891 non-null  object \n",
      " 11  Link Vendedor                    86891 non-null  object \n",
      " 12  Atributo Versión                 86879 non-null  object \n",
      " 13  Atributo Año                     86891 non-null  int64  \n",
      " 14  Atributo Modelo                  86891 non-null  object \n",
      " 15  Atributo Kilómetros              86891 non-null  object \n",
      " 16  Atributo Tipo de combustible     86891 non-null  object \n",
      " 17  Atributo Puertas                 86891 non-null  int64  \n",
      " 18  Atributo Marca                   86891 non-null  object \n",
      " 19  ID                               86891 non-null  object \n",
      " 20  Atributo Condición del ítem      86891 non-null  object \n",
      " 21  Cantidad Disponible              86891 non-null  int64  \n",
      " 22  ID Vendedor                      86891 non-null  int64  \n",
      " 23  Vendedor de Autos                86891 non-null  bool   \n",
      " 24  Agencia Inmobiliaria             86891 non-null  bool   \n",
      " 25  Transacciones Totales Vendedor   86891 non-null  int64  \n",
      " 26  Valoraciones Positivas Vendedor  86891 non-null  float64\n",
      " 27  Valoraciones Negativas Vendedor  86891 non-null  float64\n",
      " 28  Valoraciones Neutrales Vendedor  86891 non-null  float64\n",
      " 29  Precio                           86891 non-null  int64  \n",
      " 30  Moneda                           86891 non-null  object \n",
      " 31  Unidades Vendidas                86891 non-null  int64  \n",
      " 32  Ciudad Vendedor                  86891 non-null  object \n",
      " 33  Tipo de Publicación              86891 non-null  object \n",
      " 34  Fecha Finalización               86891 non-null  object \n",
      " 35  Condición                        86891 non-null  object \n",
      " 36  Link                             86891 non-null  object \n",
      " 37  Acepta MercadoPago               86891 non-null  bool   \n",
      " 38  Estado                           86891 non-null  object \n",
      " 39  Ciudad                           86891 non-null  object \n",
      " 40  País Vendedor                    86891 non-null  object \n",
      " 41  Titulo                           86891 non-null  object \n",
      " 42  Estado Vendedor                  86891 non-null  object \n",
      " 43  Precio USD                       86891 non-null  float64\n",
      " 44  Kilómetros                       86891 non-null  int64  \n",
      "dtypes: bool(3), float64(7), int64(8), object(27)\n",
      "memory usage: 28.1+ MB\n",
      "None\n"
     ]
    }
   ],
   "source": [
    "#registros por columnas\n",
    "print(df.info())"
   ]
  },
  {
   "cell_type": "markdown",
   "metadata": {
    "id": "jjjpDumfmiIq"
   },
   "source": [
    "# Analizamos el tipo de dato de cada columna"
   ]
  },
  {
   "cell_type": "code",
   "execution_count": 4,
   "metadata": {
    "colab": {
     "base_uri": "https://localhost:8080/"
    },
    "executionInfo": {
     "elapsed": 43,
     "status": "ok",
     "timestamp": 1632363677674,
     "user": {
      "displayName": "Santiago Carranza",
      "photoUrl": "https://lh3.googleusercontent.com/a/default-user=s64",
      "userId": "13785193030760836589"
     },
     "user_tz": 180
    },
    "id": "Uz74gxNUmiIr",
    "outputId": "8c10d9ac-b7ef-48ba-f60c-d94b2313d3cd"
   },
   "outputs": [
    {
     "data": {
      "text/plain": [
       "Atributo Potencia                   object\n",
       "Atributo Largo                      object\n",
       "Atributo Cilindrada                 object\n",
       "Atributo Capacidad de personas     float64\n",
       "Atributo Control de tracción        object\n",
       "Atributo Motor                      object\n",
       "Atributo Transmisión                object\n",
       "Latitud                            float64\n",
       "Longitud                           float64\n",
       "Link Miniatura                      object\n",
       "Registro Vendedor                   object\n",
       "Link Vendedor                       object\n",
       "Atributo Versión                    object\n",
       "Atributo Año                         int64\n",
       "Atributo Modelo                     object\n",
       "Atributo Kilómetros                 object\n",
       "Atributo Tipo de combustible        object\n",
       "Atributo Puertas                     int64\n",
       "Atributo Marca                      object\n",
       "ID                                  object\n",
       "Atributo Condición del ítem         object\n",
       "Cantidad Disponible                  int64\n",
       "ID Vendedor                          int64\n",
       "Vendedor de Autos                     bool\n",
       "Agencia Inmobiliaria                  bool\n",
       "Transacciones Totales Vendedor       int64\n",
       "Valoraciones Positivas Vendedor    float64\n",
       "Valoraciones Negativas Vendedor    float64\n",
       "Valoraciones Neutrales Vendedor    float64\n",
       "Precio                               int64\n",
       "Moneda                              object\n",
       "Unidades Vendidas                    int64\n",
       "Ciudad Vendedor                     object\n",
       "Tipo de Publicación                 object\n",
       "Fecha Finalización                  object\n",
       "Condición                           object\n",
       "Link                                object\n",
       "Acepta MercadoPago                    bool\n",
       "Estado                              object\n",
       "Ciudad                              object\n",
       "País Vendedor                       object\n",
       "Titulo                              object\n",
       "Estado Vendedor                     object\n",
       "Precio USD                         float64\n",
       "Kilómetros                           int64\n",
       "dtype: object"
      ]
     },
     "execution_count": 4,
     "metadata": {},
     "output_type": "execute_result"
    }
   ],
   "source": [
    "#Analizamos el tipo de dato\n",
    "df.dtypes"
   ]
  },
  {
   "cell_type": "markdown",
   "metadata": {
    "id": "rSuQJ0EEmiIt"
   },
   "source": [
    "# Listamos los nombres de las columnas"
   ]
  },
  {
   "cell_type": "code",
   "execution_count": 6,
   "metadata": {
    "colab": {
     "base_uri": "https://localhost:8080/"
    },
    "executionInfo": {
     "elapsed": 39,
     "status": "ok",
     "timestamp": 1632363677679,
     "user": {
      "displayName": "Santiago Carranza",
      "photoUrl": "https://lh3.googleusercontent.com/a/default-user=s64",
      "userId": "13785193030760836589"
     },
     "user_tz": 180
    },
    "id": "jdikGgKymiIt",
    "outputId": "fa58fba6-7edb-413a-8d25-d88af111fcfa"
   },
   "outputs": [
    {
     "data": {
      "text/plain": [
       "Index(['Atributo Potencia', 'Atributo Largo', 'Atributo Cilindrada',\n",
       "       'Atributo Capacidad de personas', 'Atributo Control de tracción',\n",
       "       'Atributo Motor', 'Atributo Transmisión', 'Latitud', 'Longitud',\n",
       "       'Link Miniatura', 'Registro Vendedor', 'Link Vendedor',\n",
       "       'Atributo Versión', 'Atributo Año', 'Atributo Modelo',\n",
       "       'Atributo Kilómetros', 'Atributo Tipo de combustible',\n",
       "       'Atributo Puertas', 'Atributo Marca', 'ID',\n",
       "       'Atributo Condición del ítem', 'Cantidad Disponible', 'ID Vendedor',\n",
       "       'Vendedor de Autos', 'Agencia Inmobiliaria',\n",
       "       'Transacciones Totales Vendedor', 'Valoraciones Positivas Vendedor',\n",
       "       'Valoraciones Negativas Vendedor', 'Valoraciones Neutrales Vendedor',\n",
       "       'Precio', 'Moneda', 'Unidades Vendidas', 'Ciudad Vendedor',\n",
       "       'Tipo de Publicación', 'Fecha Finalización', 'Condición', 'Link',\n",
       "       'Acepta MercadoPago', 'Estado', 'Ciudad', 'País Vendedor', 'Titulo',\n",
       "       'Estado Vendedor', 'Precio USD', 'Kilómetros'],\n",
       "      dtype='object')"
      ]
     },
     "execution_count": 6,
     "metadata": {},
     "output_type": "execute_result"
    }
   ],
   "source": [
    "#Seleccionamos todas las columnas\n",
    "df.columns"
   ]
  },
  {
   "cell_type": "markdown",
   "metadata": {
    "id": "qeQRETyYmiIu"
   },
   "source": [
    "**Resolución**: Machine Learning - Modelo de Clasificación "
   ]
  },
  {
   "cell_type": "markdown",
   "metadata": {
    "id": "C0X4XTOKmiIu"
   },
   "source": [
    "# Separamos los features en X e y"
   ]
  },
  {
   "cell_type": "code",
   "execution_count": 10,
   "metadata": {},
   "outputs": [],
   "source": [
    "columnas_analisis = ['Atributo Capacidad de personas', 'Atributo Control de tracción', 'Atributo Transmisión', 'Latitud', 'Longitud',\n",
    "       'Link Miniatura', 'Registro Vendedor', 'Link Vendedor',\n",
    "       'Atributo Versión', 'Atributo Año', 'Atributo Modelo',\n",
    "       'Atributo Kilómetros', 'Atributo Tipo de combustible',\n",
    "       'Atributo Puertas', 'Atributo Marca', 'ID',\n",
    "       'Atributo Condición del ítem', 'Cantidad Disponible', 'ID Vendedor',\n",
    "       'Vendedor de Autos', 'Agencia Inmobiliaria',\n",
    "       'Transacciones Totales Vendedor', 'Valoraciones Positivas Vendedor',\n",
    "       'Valoraciones Negativas Vendedor', 'Valoraciones Neutrales Vendedor',\n",
    "       'Precio', 'Moneda', 'Unidades Vendidas', 'Ciudad Vendedor',\n",
    "       'Tipo de Publicación', 'Fecha Finalización', 'Condición', 'Link',\n",
    "       'Acepta MercadoPago', 'Estado', 'Ciudad', 'País Vendedor', 'Titulo',\n",
    "       'Estado Vendedor', 'Precio USD', 'Kilómetros']"
   ]
  },
  {
   "cell_type": "code",
   "execution_count": 172,
   "metadata": {},
   "outputs": [],
   "source": [
    "# Para generar un modelo de clasificación, convertimos la columna precio en un rango de precios\n",
    "\n",
    "def rango_precio(row):\n",
    "    if row['Precio USD'] < 8000:\n",
    "        return 1\n",
    "    elif row['Precio USD'] < 13000:\n",
    "        return 2\n",
    "    elif row['Precio USD'] < 19000:\n",
    "        return 3\n",
    "    elif row['Precio USD'] > 19000:\n",
    "        return 4\n"
   ]
  },
  {
   "cell_type": "code",
   "execution_count": 173,
   "metadata": {},
   "outputs": [],
   "source": [
    "df['Rango'] = df.apply(rango_precio, axis=1)"
   ]
  },
  {
   "cell_type": "code",
   "execution_count": 174,
   "metadata": {},
   "outputs": [
    {
     "data": {
      "text/plain": [
       "1.0    20421\n",
       "2.0    22465\n",
       "3.0    21327\n",
       "4.0    22144\n",
       "Name: Rango, dtype: int64"
      ]
     },
     "execution_count": 174,
     "metadata": {},
     "output_type": "execute_result"
    }
   ],
   "source": [
    "df['Rango'].value_counts().sort_index()"
   ]
  },
  {
   "cell_type": "code",
   "execution_count": 176,
   "metadata": {},
   "outputs": [],
   "source": [
    "columnas_analisis = ['Atributo Capacidad de personas', 'Atributo Transmisión',\n",
    "                     'Atributo Año', 'Atributo Tipo de combustible',\n",
    "       'Atributo Puertas', 'Marca','Atributo Condición del ítem','Vendedor de Autos',\n",
    "                     'Transacciones Totales Vendedor', 'Moneda',\n",
    "       'Tipo de Publicación', 'Estado', 'Kilómetros', 'Rango']"
   ]
  },
  {
   "cell_type": "code",
   "execution_count": 177,
   "metadata": {},
   "outputs": [],
   "source": [
    "def corrector_marcas(row):\n",
    "    return row['Atributo Marca'].split(' ')[0]"
   ]
  },
  {
   "cell_type": "code",
   "execution_count": 178,
   "metadata": {},
   "outputs": [],
   "source": [
    "df_columnas_filtradas = df\n",
    "df_columnas_filtradas['Marca'] = df_columnas_filtradas.apply(corrector_marcas, axis=1)\n",
    "df_columnas_filtradas = df[columnas_analisis]"
   ]
  },
  {
   "cell_type": "code",
   "execution_count": 179,
   "metadata": {},
   "outputs": [],
   "source": [
    "columnas_dummies = ['Atributo Transmisión', 'Atributo Tipo de combustible', 'Marca', 'Atributo Condición del ítem', 'Vendedor de Autos', 'Moneda', 'Tipo de Publicación', 'Estado']"
   ]
  },
  {
   "cell_type": "code",
   "execution_count": 180,
   "metadata": {},
   "outputs": [],
   "source": [
    "df_columnas_filtradas = df_columnas_filtradas.loc[df_columnas_filtradas['Marca'].isin(['Volkswagen', 'Ford', 'Peugeot', 'Renault', 'Chevrolet', 'Fiat',\n",
    "       'Toyota', 'Citroën', 'Honda', 'Mercedes-Benz', 'Nissan', 'Jeep', 'Audi',\n",
    "       'BMW', 'Hyundai', 'Chery', 'Kia', 'Suzuki', 'Dodge', 'Mitsubishi',\n",
    "       'Chrysler', 'Alfa', 'DS', 'Porsche', 'Mini', 'Iveco', 'Volvo', 'SEAT',\n",
    "       'Land', 'Lifan'])]"
   ]
  },
  {
   "cell_type": "code",
   "execution_count": 181,
   "metadata": {},
   "outputs": [],
   "source": [
    "df_analisis = pd.get_dummies(df_columnas_filtradas, columns=columnas_dummies)"
   ]
  },
  {
   "cell_type": "code",
   "execution_count": 182,
   "metadata": {},
   "outputs": [],
   "source": [
    "df_sin_na = df_analisis.dropna()"
   ]
  },
  {
   "cell_type": "code",
   "execution_count": 183,
   "metadata": {
    "colab": {
     "base_uri": "https://localhost:8080/"
    },
    "executionInfo": {
     "elapsed": 232,
     "status": "ok",
     "timestamp": 1632363736642,
     "user": {
      "displayName": "Santiago Carranza",
      "photoUrl": "https://lh3.googleusercontent.com/a/default-user=s64",
      "userId": "13785193030760836589"
     },
     "user_tz": 180
    },
    "id": "d7gL6y9W839U",
    "outputId": "7dce7290-0663-41cf-eb89-96017f9d0680"
   },
   "outputs": [
    {
     "data": {
      "text/plain": [
       "Index(['Atributo Capacidad de personas', 'Atributo Año', 'Atributo Puertas',\n",
       "       'Transacciones Totales Vendedor', 'Kilómetros',\n",
       "       'Atributo Transmisión_Automática',\n",
       "       'Atributo Transmisión_Automática secuencial',\n",
       "       'Atributo Transmisión_Manual', 'Atributo Transmisión_No Informa',\n",
       "       'Atributo Transmisión_Semiautomática',\n",
       "       'Atributo Tipo de combustible_Diésel',\n",
       "       'Atributo Tipo de combustible_Eléctrico',\n",
       "       'Atributo Tipo de combustible_GNC',\n",
       "       'Atributo Tipo de combustible_Híbrido',\n",
       "       'Atributo Tipo de combustible_Híbrido/Diesel',\n",
       "       'Atributo Tipo de combustible_Híbrido/Nafta',\n",
       "       'Atributo Tipo de combustible_Manual',\n",
       "       'Atributo Tipo de combustible_Nafta',\n",
       "       'Atributo Tipo de combustible_Nafta/GNC',\n",
       "       'Atributo Tipo de combustible_No informa', 'Marca_Alfa', 'Marca_Audi',\n",
       "       'Marca_BMW', 'Marca_Chery', 'Marca_Chevrolet', 'Marca_Chrysler',\n",
       "       'Marca_Citroën', 'Marca_DS', 'Marca_Dodge', 'Marca_Fiat', 'Marca_Ford',\n",
       "       'Marca_Honda', 'Marca_Hyundai', 'Marca_Iveco', 'Marca_Jeep',\n",
       "       'Marca_Kia', 'Marca_Land', 'Marca_Lifan', 'Marca_Mercedes-Benz',\n",
       "       'Marca_Mini', 'Marca_Mitsubishi', 'Marca_Nissan', 'Marca_Peugeot',\n",
       "       'Marca_Porsche', 'Marca_Renault', 'Marca_SEAT', 'Marca_Suzuki',\n",
       "       'Marca_Toyota', 'Marca_Volkswagen', 'Marca_Volvo',\n",
       "       'Atributo Condición del ítem_Nuevo',\n",
       "       'Atributo Condición del ítem_Usado', 'Vendedor de Autos_False',\n",
       "       'Vendedor de Autos_True', 'Moneda_ARS', 'Moneda_USD',\n",
       "       'Tipo de Publicación_free', 'Tipo de Publicación_gold',\n",
       "       'Tipo de Publicación_gold_premium', 'Tipo de Publicación_silver',\n",
       "       'Estado_Bs.As. Costa Atlántica', 'Estado_Bs.As. G.B.A. Norte',\n",
       "       'Estado_Bs.As. G.B.A. Oeste', 'Estado_Bs.As. G.B.A. Sur',\n",
       "       'Estado_Buenos Aires', 'Estado_Buenos Aires Interior',\n",
       "       'Estado_Capital Federal', 'Estado_Catamarca', 'Estado_Chaco',\n",
       "       'Estado_Chubut', 'Estado_Corrientes', 'Estado_Córdoba',\n",
       "       'Estado_Entre Ríos', 'Estado_Formosa', 'Estado_Jujuy',\n",
       "       'Estado_La Pampa', 'Estado_La Rioja', 'Estado_Mendoza',\n",
       "       'Estado_Misiones', 'Estado_Neuquén', 'Estado_Río Negro', 'Estado_Salta',\n",
       "       'Estado_San Juan', 'Estado_San Luis', 'Estado_Santa Cruz',\n",
       "       'Estado_Santa Fe', 'Estado_Santiago del Estero',\n",
       "       'Estado_Tierra del Fuego', 'Estado_Tucumán'],\n",
       "      dtype='object')"
      ]
     },
     "execution_count": 183,
     "metadata": {},
     "output_type": "execute_result"
    }
   ],
   "source": [
    "#Separamos los datos de entrada de la salida\n",
    "y = df_sin_na['Rango'] #Elimino de mi dataset la variable a predecir\n",
    "x = df_sin_na.drop(columns=[\"Rango\"])#Defino el Target\n",
    "x.columns"
   ]
  },
  {
   "cell_type": "markdown",
   "metadata": {
    "id": "359iS6w-miIw"
   },
   "source": [
    "# Separaramos los datos en Train (70 %) y Test (30 %) con un random_state=42."
   ]
  },
  {
   "cell_type": "code",
   "execution_count": 184,
   "metadata": {
    "executionInfo": {
     "elapsed": 230,
     "status": "ok",
     "timestamp": 1632364461466,
     "user": {
      "displayName": "Santiago Carranza",
      "photoUrl": "https://lh3.googleusercontent.com/a/default-user=s64",
      "userId": "13785193030760836589"
     },
     "user_tz": 180
    },
    "id": "XtzzKg5fgEPG"
   },
   "outputs": [],
   "source": [
    "#Separamos en train y test\n",
    "from sklearn.model_selection import train_test_split"
   ]
  },
  {
   "cell_type": "code",
   "execution_count": 185,
   "metadata": {
    "colab": {
     "base_uri": "https://localhost:8080/",
     "height": 329
    },
    "executionInfo": {
     "elapsed": 258,
     "status": "error",
     "timestamp": 1632364958948,
     "user": {
      "displayName": "Santiago Carranza",
      "photoUrl": "https://lh3.googleusercontent.com/a/default-user=s64",
      "userId": "13785193030760836589"
     },
     "user_tz": 180
    },
    "id": "SNoEf1JugWsI",
    "outputId": "5165315b-0b67-4812-8814-9c72a9d50a6f"
   },
   "outputs": [],
   "source": [
    "#Me quedo con 30% para test y 70% para train\n",
    "x_train, x_test, y_train, y_test = train_test_split(x, y, test_size=0.3) "
   ]
  },
  {
   "cell_type": "markdown",
   "metadata": {
    "id": "uv4eCecEmiIx"
   },
   "source": [
    "# Creamos un objeto de Árbol de Decisión para un modelo de clasificación, con un Nivel de Profundidad = 2 y una Semilla para la reproducibilidad = 42"
   ]
  },
  {
   "cell_type": "code",
   "execution_count": 186,
   "metadata": {
    "executionInfo": {
     "elapsed": 417,
     "status": "ok",
     "timestamp": 1632363990313,
     "user": {
      "displayName": "Santiago Carranza",
      "photoUrl": "https://lh3.googleusercontent.com/a/default-user=s64",
      "userId": "13785193030760836589"
     },
     "user_tz": 180
    },
    "id": "t0qs-4dWmiIx"
   },
   "outputs": [],
   "source": [
    "#Importamos el modelo\n",
    "from sklearn.tree import DecisionTreeClassifier\n",
    "clf = DecisionTreeClassifier(max_depth = 13)\n"
   ]
  },
  {
   "cell_type": "markdown",
   "metadata": {
    "id": "Ee5C7qB4miIx"
   },
   "source": [
    "# Entrenamos el modelo creado"
   ]
  },
  {
   "cell_type": "code",
   "execution_count": 187,
   "metadata": {
    "colab": {
     "base_uri": "https://localhost:8080/",
     "height": 329
    },
    "executionInfo": {
     "elapsed": 252,
     "status": "error",
     "timestamp": 1632364559865,
     "user": {
      "displayName": "Santiago Carranza",
      "photoUrl": "https://lh3.googleusercontent.com/a/default-user=s64",
      "userId": "13785193030760836589"
     },
     "user_tz": 180
    },
    "id": "2cPIMDK_miIx",
    "outputId": "c27bf3f3-b89c-4af3-c2dc-127f67b60071"
   },
   "outputs": [
    {
     "data": {
      "text/plain": [
       "DecisionTreeClassifier(max_depth=13)"
      ]
     },
     "execution_count": 187,
     "metadata": {},
     "output_type": "execute_result"
    }
   ],
   "source": [
    "#Entrenamos el modelo\n",
    "clf.fit(x_train,y_train)"
   ]
  },
  {
   "cell_type": "markdown",
   "metadata": {
    "id": "9DLXyv_umiIy"
   },
   "source": [
    "# Realizamos la predicción del modelo en Train y Test"
   ]
  },
  {
   "cell_type": "code",
   "execution_count": 188,
   "metadata": {
    "colab": {
     "base_uri": "https://localhost:8080/",
     "height": 364
    },
    "executionInfo": {
     "elapsed": 5,
     "status": "error",
     "timestamp": 1632364562947,
     "user": {
      "displayName": "Santiago Carranza",
      "photoUrl": "https://lh3.googleusercontent.com/a/default-user=s64",
      "userId": "13785193030760836589"
     },
     "user_tz": 180
    },
    "id": "X8aqH62wmiIy",
    "outputId": "da7c71f3-0789-4c6a-b1b5-26a0cc88b4db"
   },
   "outputs": [],
   "source": [
    "#Prediccion en Train\n",
    "y_pred_train = clf.predict(x_train)\n",
    "#Prediccion en Test\n",
    "y_pred_test = clf.predict(x_test)"
   ]
  },
  {
   "cell_type": "markdown",
   "metadata": {
    "id": "KiqxqkUqmiI2"
   },
   "source": [
    "# Calculamos la métrica de Accuracy en Train y Test "
   ]
  },
  {
   "cell_type": "code",
   "execution_count": 189,
   "metadata": {
    "colab": {
     "base_uri": "https://localhost:8080/",
     "height": 236
    },
    "executionInfo": {
     "elapsed": 249,
     "status": "error",
     "timestamp": 1632365990423,
     "user": {
      "displayName": "Santiago Carranza",
      "photoUrl": "https://lh3.googleusercontent.com/a/default-user=s64",
      "userId": "13785193030760836589"
     },
     "user_tz": 180
    },
    "id": "o7-1cO86miI2",
    "outputId": "6acd553c-a089-49bc-8f83-c9e0a86d78bf"
   },
   "outputs": [
    {
     "name": "stdout",
     "output_type": "stream",
     "text": [
      "Accuracy sobre test: 0.7113023214125661\n",
      "Accuracy sobre train: 0.7645296354626819\n"
     ]
    }
   ],
   "source": [
    "from sklearn.metrics import accuracy_score\n",
    "#Calculo el accuracy en Train\n",
    "acc_train = accuracy_score(y_true = y_train, y_pred = y_pred_train)\n",
    "#Calculo el accuracy en Test\n",
    "acc_test = accuracy_score(y_true = y_test, y_pred = y_pred_test)\n",
    "\n",
    "print(\"Accuracy sobre test:\", acc_test)\n",
    "\n",
    "print(\"Accuracy sobre train:\",acc_train)"
   ]
  },
  {
   "cell_type": "markdown",
   "metadata": {
    "id": "a6JgRNESCVRA"
   },
   "source": [
    " ¿Qué interpretamos de nuestro árbol de decisión?\n",
    "\n",
    "Nuestro modelo está realizando una clasificación con una Accuracy que está levemente por sobre el 70%, por lo que aunque puede resultar muy útil, aunque es necesario optimizarlo aún más para mejorar este valor.\n",
    "\n",
    "\n",
    "Por otra parte, aunque  la Accuracy sobre el test y el train son muy similares, la Accuracy sobre train es 4% más alta que sobre respecto a test, por lo tanto, es posible que exista algo de overfitting."
   ]
  },
  {
   "cell_type": "markdown",
   "metadata": {
    "id": "VXn5CH62miI3"
   },
   "source": [
    "# Graficamos las variables de importancia del Árbol de Decisión "
   ]
  },
  {
   "cell_type": "code",
   "execution_count": 190,
   "metadata": {},
   "outputs": [],
   "source": [
    "import matplotlib.pylab as plt\n"
   ]
  },
  {
   "cell_type": "code",
   "execution_count": 191,
   "metadata": {
    "colab": {
     "base_uri": "https://localhost:8080/",
     "height": 381
    },
    "executionInfo": {
     "elapsed": 241,
     "status": "error",
     "timestamp": 1632364006481,
     "user": {
      "displayName": "Santiago Carranza",
      "photoUrl": "https://lh3.googleusercontent.com/a/default-user=s64",
      "userId": "13785193030760836589"
     },
     "user_tz": 180
    },
    "id": "uuhWZKcymiI4",
    "outputId": "e549200a-0749-4f1b-a280-bc34821cc607"
   },
   "outputs": [
    {
     "data": {
      "image/png": "[encoded data removed]",
      "text/plain": [
       "<Figure size 432x1440 with 1 Axes>"
      ]
     },
     "metadata": {
      "needs_background": "light"
     },
     "output_type": "display_data"
    }
   ],
   "source": [
    "#Importancia de las variablescolumnas_dataset = X_train.columns\n",
    "plt.rcParams[\"figure.figsize\"] = [6, 20]\n",
    "importancias_clf =  clf.feature_importances_\n",
    "df_importancias = pd.DataFrame({\"nombre_columna\":x.columns, \"importancia\":importancias_clf})\n",
    "df_importancias = df_importancias.sort_values(\"importancia\")\n",
    "plot = sns.barplot(data = df_importancias , y=\"nombre_columna\", x=\"importancia\")\n",
    "plt.xticks(rotation=90)\n",
    "\n",
    "plt.show()"
   ]
  },
  {
   "cell_type": "markdown",
   "metadata": {},
   "source": [
    "# Conclusión"
   ]
  },
  {
   "cell_type": "markdown",
   "metadata": {},
   "source": [
    "Con la figura anterior podemos ver que la variable que más pesa sobre el rango de valor al que pertenece un vehículo es el año, seguido con cierta distancia por el tipo de combustible (si es Diesel) y la transmisión (si es automática) y así sucesivamente. También podemos ver que hay muchos atributos que no son relevantes para esta clasificación.\n",
    "\n",
    "Finalmente, los resultados obtenidos aquí nos guían sobre las optimizaciones que necesitamos realizar en el futuro para mejorar nuestra predicción."
   ]
  }
 ],
 "metadata": {
  "colab": {
   "collapsed_sections": [],
   "name": " Algoritmos de Clasificación I_ Proyecto Final_Carranza_Delgado_.ipynb",
   "provenance": []
  },
  "kernelspec": {
   "display_name": "Python 3",
   "language": "python",
   "name": "python3"
  },
  "language_info": {
   "codemirror_mode": {
    "name": "ipython",
    "version": 3
   },
   "file_extension": ".py",
   "mimetype": "text/x-python",
   "name": "python",
   "nbconvert_exporter": "python",
   "pygments_lexer": "ipython3",
   "version": "3.8.8"
  }
 },
 "nbformat": 4,
 "nbformat_minor": 4
}
