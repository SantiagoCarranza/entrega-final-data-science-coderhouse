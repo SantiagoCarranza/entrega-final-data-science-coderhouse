{
 "cells": [
  {
   "cell_type": "markdown",
   "metadata": {
    "id": "FBthNfcbVe_9"
   },
   "source": [
    "# ¿Cómo funciona la regresión logística?\n",
    "Como en la regresión lineal, tenemos algunas variables de entrada, X1, X2, X3. La regresión lineal calcularía el peso de cada una de estas variables, agregaría un sesgo y devolvería una etiqueta (clase). De manera similar, en Regresión logística, se calculan las ponderaciones para cada variable de entrada (X1, X2, X3), se agrega un término de sesgo y luego se aplica una función logística a los resultados. Luego, la función devuelve un valor entre cero (clase negativa) y uno (clase positiva), que describe el valor de probabilidad de que el objeto de entrada pertenezca a la clase positiva."
   ]
  },
  {
   "cell_type": "markdown",
   "metadata": {
    "id": "qu8TPnPsAkRC"
   },
   "source": [
    "# Carga y descripción del conjunto de datos\n",
    "\n",
    "Primero, importaremos las dependencias, cargaremos los datos filtrados de la venta de los automóviles y echaremos un vistazo al marco de datos. Para usar la regresión logística, necesitamos importar la clase LogisticRegression del módulo de modelo de Scikit-Learn."
   ]
  },
  {
   "cell_type": "code",
   "execution_count": null,
   "metadata": {},
   "outputs": [],
   "source": []
  },
  {
   "cell_type": "code",
   "execution_count": 2,
   "metadata": {},
   "outputs": [],
   "source": [
    "#Importamos la librerias\n",
    "\n",
    "import pandas as pd\n",
    "import numpy as np\n",
    "import matplotlib.pyplot as plt\n",
    "import seaborn as sns\n",
    "from sklearn.linear_model import LogisticRegression\n",
    "from sklearn.model_selection import train_test_split\n",
    "sns.set()"
   ]
  },
  {
   "cell_type": "code",
   "execution_count": 3,
   "metadata": {},
   "outputs": [],
   "source": [
    "df = pd.read_csv('datasets/dataset_listo_para_analisis.csv')"
   ]
  },
  {
   "cell_type": "code",
   "execution_count": null,
   "metadata": {
    "id": "cas5ruHIVDZ9"
   },
   "outputs": [],
   "source": [
    "cars = pd.read_csv('dataset_filtrado.csv')"
   ]
  },
  {
   "cell_type": "code",
   "execution_count": null,
   "metadata": {
    "colab": {
     "base_uri": "https://localhost:8080/",
     "height": 573
    },
    "id": "iHvRY3J1BXhp",
    "outputId": "cd80d1ff-34c1-4dbc-b82f-f326d7258b90"
   },
   "outputs": [
    {
     "data": {
      "text/html": [
       "<div>\n",
       "<style scoped>\n",
       "    .dataframe tbody tr th:only-of-type {\n",
       "        vertical-align: middle;\n",
       "    }\n",
       "\n",
       "    .dataframe tbody tr th {\n",
       "        vertical-align: top;\n",
       "    }\n",
       "\n",
       "    .dataframe thead th {\n",
       "        text-align: right;\n",
       "    }\n",
       "</style>\n",
       "<table border=\"1\" class=\"dataframe\">\n",
       "  <thead>\n",
       "    <tr style=\"text-align: right;\">\n",
       "      <th></th>\n",
       "      <th>Atributo Potencia</th>\n",
       "      <th>Atributo Largo</th>\n",
       "      <th>Atributo Cilindrada</th>\n",
       "      <th>Atributo Capacidad de personas</th>\n",
       "      <th>Atributo Control de tracción</th>\n",
       "      <th>Atributo Motor</th>\n",
       "      <th>Atributo Transmisión</th>\n",
       "      <th>Latitud</th>\n",
       "      <th>Longitud</th>\n",
       "      <th>Link Miniatura</th>\n",
       "      <th>Registro Vendedor</th>\n",
       "      <th>Link Vendedor</th>\n",
       "      <th>Atributo Versión</th>\n",
       "      <th>Atributo Año</th>\n",
       "      <th>Atributo Modelo</th>\n",
       "      <th>Atributo Kilómetros</th>\n",
       "      <th>Atributo Tipo de combustible</th>\n",
       "      <th>Atributo Puertas</th>\n",
       "      <th>Atributo Marca</th>\n",
       "      <th>ID</th>\n",
       "      <th>Atributo Condición del ítem</th>\n",
       "      <th>Cantidad Disponible</th>\n",
       "      <th>ID Vendedor</th>\n",
       "      <th>Vendedor de Autos</th>\n",
       "      <th>Agencia Inmobiliaria</th>\n",
       "      <th>Transacciones Totales Vendedor</th>\n",
       "      <th>Valoraciones Positivas Vendedor</th>\n",
       "      <th>Valoraciones Negativas Vendedor</th>\n",
       "      <th>Valoraciones Neutrales Vendedor</th>\n",
       "      <th>Precio</th>\n",
       "      <th>Moneda</th>\n",
       "      <th>Unidades Vendidas</th>\n",
       "      <th>Ciudad Vendedor</th>\n",
       "      <th>Tipo de Publicación</th>\n",
       "      <th>Fecha Finalización</th>\n",
       "      <th>Condición</th>\n",
       "      <th>Link</th>\n",
       "      <th>Acepta MercadoPago</th>\n",
       "      <th>Estado</th>\n",
       "      <th>Ciudad</th>\n",
       "      <th>País Vendedor</th>\n",
       "      <th>Titulo</th>\n",
       "      <th>Estado Vendedor</th>\n",
       "      <th>Precio USD</th>\n",
       "      <th>Kilómetros</th>\n",
       "    </tr>\n",
       "  </thead>\n",
       "  <tbody>\n",
       "    <tr>\n",
       "      <th>0</th>\n",
       "      <td>105 hp</td>\n",
       "      <td>4310 mm</td>\n",
       "      <td>1.6 L</td>\n",
       "      <td>5.0</td>\n",
       "      <td>Delantera</td>\n",
       "      <td>1.6</td>\n",
       "      <td>Manual</td>\n",
       "      <td>-34.603683</td>\n",
       "      <td>-58.381557</td>\n",
       "      <td>http://http2.mlstatic.com/D_718345-MLA47368807...</td>\n",
       "      <td>2006-08-25T15:38:09.000-04:00</td>\n",
       "      <td>http://perfil.mercadolibre.com.ar/WILLYCHIARA</td>\n",
       "      <td>1.6 Family</td>\n",
       "      <td>1998</td>\n",
       "      <td>Applause</td>\n",
       "      <td>105000 km</td>\n",
       "      <td>Nafta</td>\n",
       "      <td>4</td>\n",
       "      <td>Daihatsu</td>\n",
       "      <td>MLA1101676302</td>\n",
       "      <td>Usado</td>\n",
       "      <td>1</td>\n",
       "      <td>97579117</td>\n",
       "      <td>False</td>\n",
       "      <td>False</td>\n",
       "      <td>12</td>\n",
       "      <td>1.0</td>\n",
       "      <td>0.0</td>\n",
       "      <td>0.0</td>\n",
       "      <td>440000</td>\n",
       "      <td>ARS</td>\n",
       "      <td>0</td>\n",
       "      <td>Villa Urquiza</td>\n",
       "      <td>gold_premium</td>\n",
       "      <td>2021-11-03T04:00:23.000Z</td>\n",
       "      <td>used</td>\n",
       "      <td>https://auto.mercadolibre.com.ar/MLA-110167630...</td>\n",
       "      <td>True</td>\n",
       "      <td>Capital Federal</td>\n",
       "      <td>Capital Federal</td>\n",
       "      <td>Argentina</td>\n",
       "      <td>Daihatsu Applause 1.6 Family 1998</td>\n",
       "      <td>Capital Federal</td>\n",
       "      <td>4400.0</td>\n",
       "      <td>105000</td>\n",
       "    </tr>\n",
       "    <tr>\n",
       "      <th>1</th>\n",
       "      <td>NaN</td>\n",
       "      <td>NaN</td>\n",
       "      <td>NaN</td>\n",
       "      <td>NaN</td>\n",
       "      <td>NaN</td>\n",
       "      <td>NaN</td>\n",
       "      <td>NaN</td>\n",
       "      <td>-34.786247</td>\n",
       "      <td>-58.622967</td>\n",
       "      <td>http://http2.mlstatic.com/D_773557-MLA47305486...</td>\n",
       "      <td>2015-06-05T13:11:10.000-04:00</td>\n",
       "      <td>http://perfil.mercadolibre.com.ar/BOPA4868085</td>\n",
       "      <td>Piaggio porter</td>\n",
       "      <td>1997</td>\n",
       "      <td>Piaggio</td>\n",
       "      <td>1234 km</td>\n",
       "      <td>Nafta</td>\n",
       "      <td>5</td>\n",
       "      <td>Daihatsu</td>\n",
       "      <td>MLA1100600678</td>\n",
       "      <td>Usado</td>\n",
       "      <td>1</td>\n",
       "      <td>184918168</td>\n",
       "      <td>False</td>\n",
       "      <td>False</td>\n",
       "      <td>0</td>\n",
       "      <td>1.0</td>\n",
       "      <td>0.0</td>\n",
       "      <td>0.0</td>\n",
       "      <td>480000</td>\n",
       "      <td>ARS</td>\n",
       "      <td>0</td>\n",
       "      <td>virrey del pino</td>\n",
       "      <td>gold_premium</td>\n",
       "      <td>2021-10-30T04:00:21.000Z</td>\n",
       "      <td>used</td>\n",
       "      <td>https://auto.mercadolibre.com.ar/MLA-110060067...</td>\n",
       "      <td>True</td>\n",
       "      <td>Bs.As. G.B.A. Oeste</td>\n",
       "      <td>La Matanza</td>\n",
       "      <td>Argentina</td>\n",
       "      <td>Daihatsu Piaggio Piaggio Porter</td>\n",
       "      <td>Buenos Aires</td>\n",
       "      <td>4800.0</td>\n",
       "      <td>1234</td>\n",
       "    </tr>\n",
       "    <tr>\n",
       "      <th>2</th>\n",
       "      <td>44 hp</td>\n",
       "      <td>3295 mm</td>\n",
       "      <td>0.8 L</td>\n",
       "      <td>5.0</td>\n",
       "      <td>Delantera</td>\n",
       "      <td>0.8</td>\n",
       "      <td>Manual</td>\n",
       "      <td>-34.603683</td>\n",
       "      <td>-58.381557</td>\n",
       "      <td>http://http2.mlstatic.com/D_618418-MLA47428215...</td>\n",
       "      <td>2018-07-05T16:31:37.000-04:00</td>\n",
       "      <td>http://perfil.mercadolibre.com.ar/VIRGILIO+AUT...</td>\n",
       "      <td>0.8</td>\n",
       "      <td>1996</td>\n",
       "      <td>Cuore</td>\n",
       "      <td>128000 km</td>\n",
       "      <td>Nafta</td>\n",
       "      <td>5</td>\n",
       "      <td>Daihatsu</td>\n",
       "      <td>MLA1102506351</td>\n",
       "      <td>Usado</td>\n",
       "      <td>1</td>\n",
       "      <td>333949511</td>\n",
       "      <td>True</td>\n",
       "      <td>False</td>\n",
       "      <td>0</td>\n",
       "      <td>0.0</td>\n",
       "      <td>0.0</td>\n",
       "      <td>0.0</td>\n",
       "      <td>450000</td>\n",
       "      <td>ARS</td>\n",
       "      <td>0</td>\n",
       "      <td>Monte Castro</td>\n",
       "      <td>gold</td>\n",
       "      <td>2021-10-17T22:15:16.000Z</td>\n",
       "      <td>used</td>\n",
       "      <td>https://auto.mercadolibre.com.ar/MLA-110250635...</td>\n",
       "      <td>True</td>\n",
       "      <td>Capital Federal</td>\n",
       "      <td>Capital Federal</td>\n",
       "      <td>Argentina</td>\n",
       "      <td>Daihatsu Cuore 1996 0.8</td>\n",
       "      <td>Capital Federal</td>\n",
       "      <td>4500.0</td>\n",
       "      <td>128000</td>\n",
       "    </tr>\n",
       "    <tr>\n",
       "      <th>3</th>\n",
       "      <td>84 hp</td>\n",
       "      <td>3840 mm</td>\n",
       "      <td>1.3 L</td>\n",
       "      <td>5.0</td>\n",
       "      <td>4x4</td>\n",
       "      <td>1.3</td>\n",
       "      <td>Manual</td>\n",
       "      <td>-34.668500</td>\n",
       "      <td>-58.728250</td>\n",
       "      <td>http://http2.mlstatic.com/D_664121-MLA46444666...</td>\n",
       "      <td>2019-12-09T10:48:36.000-04:00</td>\n",
       "      <td>http://perfil.mercadolibre.com.ar/MSH46SRL</td>\n",
       "      <td>1.3 Sx 4wd</td>\n",
       "      <td>1998</td>\n",
       "      <td>Terios</td>\n",
       "      <td>184000 km</td>\n",
       "      <td>Nafta</td>\n",
       "      <td>5</td>\n",
       "      <td>Daihatsu</td>\n",
       "      <td>MLA934672010</td>\n",
       "      <td>Usado</td>\n",
       "      <td>1</td>\n",
       "      <td>498558751</td>\n",
       "      <td>True</td>\n",
       "      <td>False</td>\n",
       "      <td>4</td>\n",
       "      <td>0.9</td>\n",
       "      <td>0.0</td>\n",
       "      <td>0.1</td>\n",
       "      <td>950000</td>\n",
       "      <td>ARS</td>\n",
       "      <td>0</td>\n",
       "      <td>Merlo</td>\n",
       "      <td>gold</td>\n",
       "      <td>2021-10-17T20:15:49.000Z</td>\n",
       "      <td>used</td>\n",
       "      <td>https://auto.mercadolibre.com.ar/MLA-934672010...</td>\n",
       "      <td>True</td>\n",
       "      <td>Bs.As. G.B.A. Oeste</td>\n",
       "      <td>Merlo</td>\n",
       "      <td>Argentina</td>\n",
       "      <td>Daihatsu Terios 1.3 Sx 4wd Cuero Full</td>\n",
       "      <td>Buenos Aires</td>\n",
       "      <td>9500.0</td>\n",
       "      <td>184000</td>\n",
       "    </tr>\n",
       "    <tr>\n",
       "      <th>4</th>\n",
       "      <td>105 hp</td>\n",
       "      <td>4310 mm</td>\n",
       "      <td>1.6 L</td>\n",
       "      <td>5.0</td>\n",
       "      <td>Delantera</td>\n",
       "      <td>1.6</td>\n",
       "      <td>Manual</td>\n",
       "      <td>-32.485264</td>\n",
       "      <td>-63.297504</td>\n",
       "      <td>http://http2.mlstatic.com/D_761194-MLA47247640...</td>\n",
       "      <td>2011-04-21T18:11:15.000-04:00</td>\n",
       "      <td>http://perfil.mercadolibre.com.ar/DOLOVENT</td>\n",
       "      <td>1.6 Prime</td>\n",
       "      <td>1992</td>\n",
       "      <td>Applause</td>\n",
       "      <td>230000 km</td>\n",
       "      <td>Nafta</td>\n",
       "      <td>4</td>\n",
       "      <td>Daihatsu</td>\n",
       "      <td>MLA936014311</td>\n",
       "      <td>Usado</td>\n",
       "      <td>1</td>\n",
       "      <td>52511584</td>\n",
       "      <td>False</td>\n",
       "      <td>False</td>\n",
       "      <td>0</td>\n",
       "      <td>0.0</td>\n",
       "      <td>0.0</td>\n",
       "      <td>0.0</td>\n",
       "      <td>100000</td>\n",
       "      <td>ARS</td>\n",
       "      <td>0</td>\n",
       "      <td>villa nueva</td>\n",
       "      <td>silver</td>\n",
       "      <td>2021-10-25T04:00:11.000Z</td>\n",
       "      <td>used</td>\n",
       "      <td>https://auto.mercadolibre.com.ar/MLA-936014311...</td>\n",
       "      <td>True</td>\n",
       "      <td>Córdoba</td>\n",
       "      <td>General San Martín</td>\n",
       "      <td>Argentina</td>\n",
       "      <td>Daihatsu Applause 1992 1.6 Prime</td>\n",
       "      <td>Córdoba</td>\n",
       "      <td>1000.0</td>\n",
       "      <td>230000</td>\n",
       "    </tr>\n",
       "  </tbody>\n",
       "</table>\n",
       "</div>"
      ],
      "text/plain": [
       "  Atributo Potencia Atributo Largo  ... Precio USD  Kilómetros\n",
       "0            105 hp        4310 mm  ...     4400.0      105000\n",
       "1               NaN            NaN  ...     4800.0        1234\n",
       "2             44 hp        3295 mm  ...     4500.0      128000\n",
       "3             84 hp        3840 mm  ...     9500.0      184000\n",
       "4            105 hp        4310 mm  ...     1000.0      230000\n",
       "\n",
       "[5 rows x 45 columns]"
      ]
     },
     "execution_count": 10,
     "metadata": {},
     "output_type": "execute_result"
    }
   ],
   "source": [
    "cars.head()"
   ]
  },
  {
   "cell_type": "code",
   "execution_count": null,
   "metadata": {
    "colab": {
     "base_uri": "https://localhost:8080/",
     "height": 981
    },
    "id": "mWmm-8veKLAX",
    "outputId": "f79af81b-c47d-4ba1-e5c8-bad12463cba6"
   },
   "outputs": [
    {
     "data": {
      "text/html": [
       "<div>\n",
       "<style scoped>\n",
       "    .dataframe tbody tr th:only-of-type {\n",
       "        vertical-align: middle;\n",
       "    }\n",
       "\n",
       "    .dataframe tbody tr th {\n",
       "        vertical-align: top;\n",
       "    }\n",
       "\n",
       "    .dataframe thead th {\n",
       "        text-align: right;\n",
       "    }\n",
       "</style>\n",
       "<table border=\"1\" class=\"dataframe\">\n",
       "  <thead>\n",
       "    <tr style=\"text-align: right;\">\n",
       "      <th></th>\n",
       "      <th>Atributo Potencia</th>\n",
       "      <th>Atributo Largo</th>\n",
       "      <th>Atributo Cilindrada</th>\n",
       "      <th>Atributo Capacidad de personas</th>\n",
       "      <th>Atributo Control de tracción</th>\n",
       "      <th>Atributo Motor</th>\n",
       "      <th>Atributo Transmisión</th>\n",
       "      <th>Latitud</th>\n",
       "      <th>Longitud</th>\n",
       "      <th>Link Miniatura</th>\n",
       "      <th>Registro Vendedor</th>\n",
       "      <th>Link Vendedor</th>\n",
       "      <th>Atributo Versión</th>\n",
       "      <th>Atributo Año</th>\n",
       "      <th>Atributo Modelo</th>\n",
       "      <th>Atributo Kilómetros</th>\n",
       "      <th>Atributo Tipo de combustible</th>\n",
       "      <th>Atributo Puertas</th>\n",
       "      <th>Atributo Marca</th>\n",
       "      <th>ID</th>\n",
       "      <th>Atributo Condición del ítem</th>\n",
       "      <th>Cantidad Disponible</th>\n",
       "      <th>ID Vendedor</th>\n",
       "      <th>Vendedor de Autos</th>\n",
       "      <th>Agencia Inmobiliaria</th>\n",
       "      <th>Transacciones Totales Vendedor</th>\n",
       "      <th>Valoraciones Positivas Vendedor</th>\n",
       "      <th>Valoraciones Negativas Vendedor</th>\n",
       "      <th>Valoraciones Neutrales Vendedor</th>\n",
       "      <th>Precio</th>\n",
       "      <th>Moneda</th>\n",
       "      <th>Unidades Vendidas</th>\n",
       "      <th>Ciudad Vendedor</th>\n",
       "      <th>Tipo de Publicación</th>\n",
       "      <th>Fecha Finalización</th>\n",
       "      <th>Condición</th>\n",
       "      <th>Link</th>\n",
       "      <th>Acepta MercadoPago</th>\n",
       "      <th>Estado</th>\n",
       "      <th>Ciudad</th>\n",
       "      <th>País Vendedor</th>\n",
       "      <th>Titulo</th>\n",
       "      <th>Estado Vendedor</th>\n",
       "      <th>Precio USD</th>\n",
       "      <th>Kilómetros</th>\n",
       "      <th>clase de etiquetas</th>\n",
       "    </tr>\n",
       "  </thead>\n",
       "  <tbody>\n",
       "    <tr>\n",
       "      <th>0</th>\n",
       "      <td>105 hp</td>\n",
       "      <td>4310 mm</td>\n",
       "      <td>1.6 L</td>\n",
       "      <td>5.0</td>\n",
       "      <td>Delantera</td>\n",
       "      <td>1.6</td>\n",
       "      <td>Manual</td>\n",
       "      <td>-34.603683</td>\n",
       "      <td>-58.381557</td>\n",
       "      <td>http://http2.mlstatic.com/D_718345-MLA47368807...</td>\n",
       "      <td>2006-08-25T15:38:09.000-04:00</td>\n",
       "      <td>http://perfil.mercadolibre.com.ar/WILLYCHIARA</td>\n",
       "      <td>1.6 Family</td>\n",
       "      <td>1998</td>\n",
       "      <td>Applause</td>\n",
       "      <td>105000 km</td>\n",
       "      <td>Nafta</td>\n",
       "      <td>4</td>\n",
       "      <td>Daihatsu</td>\n",
       "      <td>MLA1101676302</td>\n",
       "      <td>Usado</td>\n",
       "      <td>1</td>\n",
       "      <td>97579117</td>\n",
       "      <td>False</td>\n",
       "      <td>False</td>\n",
       "      <td>12</td>\n",
       "      <td>1.0</td>\n",
       "      <td>0.0</td>\n",
       "      <td>0.0</td>\n",
       "      <td>440000</td>\n",
       "      <td>ARS</td>\n",
       "      <td>0</td>\n",
       "      <td>Villa Urquiza</td>\n",
       "      <td>gold_premium</td>\n",
       "      <td>2021-11-03T04:00:23.000Z</td>\n",
       "      <td>used</td>\n",
       "      <td>https://auto.mercadolibre.com.ar/MLA-110167630...</td>\n",
       "      <td>True</td>\n",
       "      <td>Capital Federal</td>\n",
       "      <td>Capital Federal</td>\n",
       "      <td>Argentina</td>\n",
       "      <td>Daihatsu Applause 1.6 Family 1998</td>\n",
       "      <td>Capital Federal</td>\n",
       "      <td>4400.0</td>\n",
       "      <td>105000</td>\n",
       "      <td>1</td>\n",
       "    </tr>\n",
       "    <tr>\n",
       "      <th>1</th>\n",
       "      <td>NaN</td>\n",
       "      <td>NaN</td>\n",
       "      <td>NaN</td>\n",
       "      <td>NaN</td>\n",
       "      <td>NaN</td>\n",
       "      <td>NaN</td>\n",
       "      <td>NaN</td>\n",
       "      <td>-34.786247</td>\n",
       "      <td>-58.622967</td>\n",
       "      <td>http://http2.mlstatic.com/D_773557-MLA47305486...</td>\n",
       "      <td>2015-06-05T13:11:10.000-04:00</td>\n",
       "      <td>http://perfil.mercadolibre.com.ar/BOPA4868085</td>\n",
       "      <td>Piaggio porter</td>\n",
       "      <td>1997</td>\n",
       "      <td>Piaggio</td>\n",
       "      <td>1234 km</td>\n",
       "      <td>Nafta</td>\n",
       "      <td>5</td>\n",
       "      <td>Daihatsu</td>\n",
       "      <td>MLA1100600678</td>\n",
       "      <td>Usado</td>\n",
       "      <td>1</td>\n",
       "      <td>184918168</td>\n",
       "      <td>False</td>\n",
       "      <td>False</td>\n",
       "      <td>0</td>\n",
       "      <td>1.0</td>\n",
       "      <td>0.0</td>\n",
       "      <td>0.0</td>\n",
       "      <td>480000</td>\n",
       "      <td>ARS</td>\n",
       "      <td>0</td>\n",
       "      <td>virrey del pino</td>\n",
       "      <td>gold_premium</td>\n",
       "      <td>2021-10-30T04:00:21.000Z</td>\n",
       "      <td>used</td>\n",
       "      <td>https://auto.mercadolibre.com.ar/MLA-110060067...</td>\n",
       "      <td>True</td>\n",
       "      <td>Bs.As. G.B.A. Oeste</td>\n",
       "      <td>La Matanza</td>\n",
       "      <td>Argentina</td>\n",
       "      <td>Daihatsu Piaggio Piaggio Porter</td>\n",
       "      <td>Buenos Aires</td>\n",
       "      <td>4800.0</td>\n",
       "      <td>1234</td>\n",
       "      <td>0</td>\n",
       "    </tr>\n",
       "    <tr>\n",
       "      <th>2</th>\n",
       "      <td>44 hp</td>\n",
       "      <td>3295 mm</td>\n",
       "      <td>0.8 L</td>\n",
       "      <td>5.0</td>\n",
       "      <td>Delantera</td>\n",
       "      <td>0.8</td>\n",
       "      <td>Manual</td>\n",
       "      <td>-34.603683</td>\n",
       "      <td>-58.381557</td>\n",
       "      <td>http://http2.mlstatic.com/D_618418-MLA47428215...</td>\n",
       "      <td>2018-07-05T16:31:37.000-04:00</td>\n",
       "      <td>http://perfil.mercadolibre.com.ar/VIRGILIO+AUT...</td>\n",
       "      <td>0.8</td>\n",
       "      <td>1996</td>\n",
       "      <td>Cuore</td>\n",
       "      <td>128000 km</td>\n",
       "      <td>Nafta</td>\n",
       "      <td>5</td>\n",
       "      <td>Daihatsu</td>\n",
       "      <td>MLA1102506351</td>\n",
       "      <td>Usado</td>\n",
       "      <td>1</td>\n",
       "      <td>333949511</td>\n",
       "      <td>True</td>\n",
       "      <td>False</td>\n",
       "      <td>0</td>\n",
       "      <td>0.0</td>\n",
       "      <td>0.0</td>\n",
       "      <td>0.0</td>\n",
       "      <td>450000</td>\n",
       "      <td>ARS</td>\n",
       "      <td>0</td>\n",
       "      <td>Monte Castro</td>\n",
       "      <td>gold</td>\n",
       "      <td>2021-10-17T22:15:16.000Z</td>\n",
       "      <td>used</td>\n",
       "      <td>https://auto.mercadolibre.com.ar/MLA-110250635...</td>\n",
       "      <td>True</td>\n",
       "      <td>Capital Federal</td>\n",
       "      <td>Capital Federal</td>\n",
       "      <td>Argentina</td>\n",
       "      <td>Daihatsu Cuore 1996 0.8</td>\n",
       "      <td>Capital Federal</td>\n",
       "      <td>4500.0</td>\n",
       "      <td>128000</td>\n",
       "      <td>1</td>\n",
       "    </tr>\n",
       "    <tr>\n",
       "      <th>3</th>\n",
       "      <td>84 hp</td>\n",
       "      <td>3840 mm</td>\n",
       "      <td>1.3 L</td>\n",
       "      <td>5.0</td>\n",
       "      <td>4x4</td>\n",
       "      <td>1.3</td>\n",
       "      <td>Manual</td>\n",
       "      <td>-34.668500</td>\n",
       "      <td>-58.728250</td>\n",
       "      <td>http://http2.mlstatic.com/D_664121-MLA46444666...</td>\n",
       "      <td>2019-12-09T10:48:36.000-04:00</td>\n",
       "      <td>http://perfil.mercadolibre.com.ar/MSH46SRL</td>\n",
       "      <td>1.3 Sx 4wd</td>\n",
       "      <td>1998</td>\n",
       "      <td>Terios</td>\n",
       "      <td>184000 km</td>\n",
       "      <td>Nafta</td>\n",
       "      <td>5</td>\n",
       "      <td>Daihatsu</td>\n",
       "      <td>MLA934672010</td>\n",
       "      <td>Usado</td>\n",
       "      <td>1</td>\n",
       "      <td>498558751</td>\n",
       "      <td>True</td>\n",
       "      <td>False</td>\n",
       "      <td>4</td>\n",
       "      <td>0.9</td>\n",
       "      <td>0.0</td>\n",
       "      <td>0.1</td>\n",
       "      <td>950000</td>\n",
       "      <td>ARS</td>\n",
       "      <td>0</td>\n",
       "      <td>Merlo</td>\n",
       "      <td>gold</td>\n",
       "      <td>2021-10-17T20:15:49.000Z</td>\n",
       "      <td>used</td>\n",
       "      <td>https://auto.mercadolibre.com.ar/MLA-934672010...</td>\n",
       "      <td>True</td>\n",
       "      <td>Bs.As. G.B.A. Oeste</td>\n",
       "      <td>Merlo</td>\n",
       "      <td>Argentina</td>\n",
       "      <td>Daihatsu Terios 1.3 Sx 4wd Cuero Full</td>\n",
       "      <td>Buenos Aires</td>\n",
       "      <td>9500.0</td>\n",
       "      <td>184000</td>\n",
       "      <td>0</td>\n",
       "    </tr>\n",
       "    <tr>\n",
       "      <th>4</th>\n",
       "      <td>105 hp</td>\n",
       "      <td>4310 mm</td>\n",
       "      <td>1.6 L</td>\n",
       "      <td>5.0</td>\n",
       "      <td>Delantera</td>\n",
       "      <td>1.6</td>\n",
       "      <td>Manual</td>\n",
       "      <td>-32.485264</td>\n",
       "      <td>-63.297504</td>\n",
       "      <td>http://http2.mlstatic.com/D_761194-MLA47247640...</td>\n",
       "      <td>2011-04-21T18:11:15.000-04:00</td>\n",
       "      <td>http://perfil.mercadolibre.com.ar/DOLOVENT</td>\n",
       "      <td>1.6 Prime</td>\n",
       "      <td>1992</td>\n",
       "      <td>Applause</td>\n",
       "      <td>230000 km</td>\n",
       "      <td>Nafta</td>\n",
       "      <td>4</td>\n",
       "      <td>Daihatsu</td>\n",
       "      <td>MLA936014311</td>\n",
       "      <td>Usado</td>\n",
       "      <td>1</td>\n",
       "      <td>52511584</td>\n",
       "      <td>False</td>\n",
       "      <td>False</td>\n",
       "      <td>0</td>\n",
       "      <td>0.0</td>\n",
       "      <td>0.0</td>\n",
       "      <td>0.0</td>\n",
       "      <td>100000</td>\n",
       "      <td>ARS</td>\n",
       "      <td>0</td>\n",
       "      <td>villa nueva</td>\n",
       "      <td>silver</td>\n",
       "      <td>2021-10-25T04:00:11.000Z</td>\n",
       "      <td>used</td>\n",
       "      <td>https://auto.mercadolibre.com.ar/MLA-936014311...</td>\n",
       "      <td>True</td>\n",
       "      <td>Córdoba</td>\n",
       "      <td>General San Martín</td>\n",
       "      <td>Argentina</td>\n",
       "      <td>Daihatsu Applause 1992 1.6 Prime</td>\n",
       "      <td>Córdoba</td>\n",
       "      <td>1000.0</td>\n",
       "      <td>230000</td>\n",
       "      <td>1</td>\n",
       "    </tr>\n",
       "    <tr>\n",
       "      <th>...</th>\n",
       "      <td>...</td>\n",
       "      <td>...</td>\n",
       "      <td>...</td>\n",
       "      <td>...</td>\n",
       "      <td>...</td>\n",
       "      <td>...</td>\n",
       "      <td>...</td>\n",
       "      <td>...</td>\n",
       "      <td>...</td>\n",
       "      <td>...</td>\n",
       "      <td>...</td>\n",
       "      <td>...</td>\n",
       "      <td>...</td>\n",
       "      <td>...</td>\n",
       "      <td>...</td>\n",
       "      <td>...</td>\n",
       "      <td>...</td>\n",
       "      <td>...</td>\n",
       "      <td>...</td>\n",
       "      <td>...</td>\n",
       "      <td>...</td>\n",
       "      <td>...</td>\n",
       "      <td>...</td>\n",
       "      <td>...</td>\n",
       "      <td>...</td>\n",
       "      <td>...</td>\n",
       "      <td>...</td>\n",
       "      <td>...</td>\n",
       "      <td>...</td>\n",
       "      <td>...</td>\n",
       "      <td>...</td>\n",
       "      <td>...</td>\n",
       "      <td>...</td>\n",
       "      <td>...</td>\n",
       "      <td>...</td>\n",
       "      <td>...</td>\n",
       "      <td>...</td>\n",
       "      <td>...</td>\n",
       "      <td>...</td>\n",
       "      <td>...</td>\n",
       "      <td>...</td>\n",
       "      <td>...</td>\n",
       "      <td>...</td>\n",
       "      <td>...</td>\n",
       "      <td>...</td>\n",
       "      <td>...</td>\n",
       "    </tr>\n",
       "    <tr>\n",
       "      <th>86886</th>\n",
       "      <td>NaN</td>\n",
       "      <td>NaN</td>\n",
       "      <td>NaN</td>\n",
       "      <td>NaN</td>\n",
       "      <td>NaN</td>\n",
       "      <td>NaN</td>\n",
       "      <td>NaN</td>\n",
       "      <td>-34.528122</td>\n",
       "      <td>-58.473816</td>\n",
       "      <td>http://http2.mlstatic.com/D_989918-MLA47176522...</td>\n",
       "      <td>2017-10-19T15:33:56.000-04:00</td>\n",
       "      <td>http://perfil.mercadolibre.com.ar/LUCI_30_05</td>\n",
       "      <td>Nafta</td>\n",
       "      <td>2019</td>\n",
       "      <td>Fiesta SE</td>\n",
       "      <td>34000 km</td>\n",
       "      <td>Nafta</td>\n",
       "      <td>5</td>\n",
       "      <td>Ford</td>\n",
       "      <td>MLA934879282</td>\n",
       "      <td>Usado</td>\n",
       "      <td>1</td>\n",
       "      <td>279123607</td>\n",
       "      <td>False</td>\n",
       "      <td>False</td>\n",
       "      <td>1</td>\n",
       "      <td>0.0</td>\n",
       "      <td>0.0</td>\n",
       "      <td>1.0</td>\n",
       "      <td>1640000</td>\n",
       "      <td>ARS</td>\n",
       "      <td>0</td>\n",
       "      <td>Tortuguitas</td>\n",
       "      <td>free</td>\n",
       "      <td>2021-10-17T04:00:00.000Z</td>\n",
       "      <td>used</td>\n",
       "      <td>https://auto.mercadolibre.com.ar/MLA-934879282...</td>\n",
       "      <td>True</td>\n",
       "      <td>Bs.As. G.B.A. Norte</td>\n",
       "      <td>Vicente López</td>\n",
       "      <td>Argentina</td>\n",
       "      <td>Ford Fiesta Se Nafta</td>\n",
       "      <td>Buenos Aires</td>\n",
       "      <td>16400.0</td>\n",
       "      <td>34000</td>\n",
       "      <td>0</td>\n",
       "    </tr>\n",
       "    <tr>\n",
       "      <th>86887</th>\n",
       "      <td>NaN</td>\n",
       "      <td>NaN</td>\n",
       "      <td>NaN</td>\n",
       "      <td>NaN</td>\n",
       "      <td>NaN</td>\n",
       "      <td>NaN</td>\n",
       "      <td>NaN</td>\n",
       "      <td>-34.340252</td>\n",
       "      <td>-58.784943</td>\n",
       "      <td>http://http2.mlstatic.com/D_961858-MLA47094353...</td>\n",
       "      <td>2018-12-10T21:15:13.000-04:00</td>\n",
       "      <td>http://perfil.mercadolibre.com.ar/ZEAN2775691</td>\n",
       "      <td>Zen</td>\n",
       "      <td>2019</td>\n",
       "      <td>Zen</td>\n",
       "      <td>116000 km</td>\n",
       "      <td>Nafta</td>\n",
       "      <td>5</td>\n",
       "      <td>Kwid zen</td>\n",
       "      <td>MLA934269883</td>\n",
       "      <td>Usado</td>\n",
       "      <td>1</td>\n",
       "      <td>385681490</td>\n",
       "      <td>False</td>\n",
       "      <td>False</td>\n",
       "      <td>0</td>\n",
       "      <td>1.0</td>\n",
       "      <td>0.0</td>\n",
       "      <td>0.0</td>\n",
       "      <td>900000</td>\n",
       "      <td>ARS</td>\n",
       "      <td>0</td>\n",
       "      <td>Argentina</td>\n",
       "      <td>free</td>\n",
       "      <td>2021-10-12T04:00:00.000Z</td>\n",
       "      <td>used</td>\n",
       "      <td>https://auto.mercadolibre.com.ar/MLA-934269883...</td>\n",
       "      <td>True</td>\n",
       "      <td>Bs.As. G.B.A. Norte</td>\n",
       "      <td>Escobar</td>\n",
       "      <td>Argentina</td>\n",
       "      <td>Kwid Zen Zen Zen</td>\n",
       "      <td>Buenos Aires</td>\n",
       "      <td>9000.0</td>\n",
       "      <td>116000</td>\n",
       "      <td>0</td>\n",
       "    </tr>\n",
       "    <tr>\n",
       "      <th>86888</th>\n",
       "      <td>NaN</td>\n",
       "      <td>NaN</td>\n",
       "      <td>NaN</td>\n",
       "      <td>NaN</td>\n",
       "      <td>NaN</td>\n",
       "      <td>NaN</td>\n",
       "      <td>NaN</td>\n",
       "      <td>-34.661076</td>\n",
       "      <td>-58.366974</td>\n",
       "      <td>http://http2.mlstatic.com/D_782807-MLA46914673...</td>\n",
       "      <td>2012-09-19T11:17:36.000-04:00</td>\n",
       "      <td>http://perfil.mercadolibre.com.ar/PASILIO+AUTO...</td>\n",
       "      <td>Pickup doble cabina</td>\n",
       "      <td>2019</td>\n",
       "      <td>Z truck Duo</td>\n",
       "      <td>1000 km</td>\n",
       "      <td>Nafta</td>\n",
       "      <td>4</td>\n",
       "      <td>Zanella</td>\n",
       "      <td>MLA931553824</td>\n",
       "      <td>Usado</td>\n",
       "      <td>1</td>\n",
       "      <td>123908096</td>\n",
       "      <td>True</td>\n",
       "      <td>False</td>\n",
       "      <td>6</td>\n",
       "      <td>1.0</td>\n",
       "      <td>0.0</td>\n",
       "      <td>0.0</td>\n",
       "      <td>1589000</td>\n",
       "      <td>ARS</td>\n",
       "      <td>0</td>\n",
       "      <td>Villa Dominico Avellaneda</td>\n",
       "      <td>silver</td>\n",
       "      <td>2021-09-22T00:15:32.000Z</td>\n",
       "      <td>used</td>\n",
       "      <td>https://auto.mercadolibre.com.ar/MLA-931553824...</td>\n",
       "      <td>True</td>\n",
       "      <td>Bs.As. G.B.A. Sur</td>\n",
       "      <td>Avellaneda</td>\n",
       "      <td>Argentina</td>\n",
       "      <td>Zanella  Z Truck Duo Pickup Doble Cabina</td>\n",
       "      <td>Buenos Aires</td>\n",
       "      <td>15890.0</td>\n",
       "      <td>1000</td>\n",
       "      <td>0</td>\n",
       "    </tr>\n",
       "    <tr>\n",
       "      <th>86889</th>\n",
       "      <td>NaN</td>\n",
       "      <td>NaN</td>\n",
       "      <td>NaN</td>\n",
       "      <td>NaN</td>\n",
       "      <td>NaN</td>\n",
       "      <td>NaN</td>\n",
       "      <td>NaN</td>\n",
       "      <td>-34.634010</td>\n",
       "      <td>-58.791380</td>\n",
       "      <td>http://http2.mlstatic.com/D_820265-MLA47272729...</td>\n",
       "      <td>2019-04-06T11:32:49.000-04:00</td>\n",
       "      <td>http://perfil.mercadolibre.com.ar/BARO5946152</td>\n",
       "      <td>Comforline</td>\n",
       "      <td>2021</td>\n",
       "      <td>Taos Comforlone 250</td>\n",
       "      <td>111111 km</td>\n",
       "      <td>Diésel</td>\n",
       "      <td>5</td>\n",
       "      <td>Volkswagen</td>\n",
       "      <td>MLA1100253887</td>\n",
       "      <td>Usado</td>\n",
       "      <td>1</td>\n",
       "      <td>424067250</td>\n",
       "      <td>False</td>\n",
       "      <td>False</td>\n",
       "      <td>0</td>\n",
       "      <td>0.0</td>\n",
       "      <td>0.0</td>\n",
       "      <td>0.0</td>\n",
       "      <td>4277700</td>\n",
       "      <td>ARS</td>\n",
       "      <td>0</td>\n",
       "      <td>Buenos aires</td>\n",
       "      <td>free</td>\n",
       "      <td>2021-10-27T04:00:00.000Z</td>\n",
       "      <td>used</td>\n",
       "      <td>https://auto.mercadolibre.com.ar/MLA-110025388...</td>\n",
       "      <td>True</td>\n",
       "      <td>Bs.As. G.B.A. Oeste</td>\n",
       "      <td>Moreno</td>\n",
       "      <td>Argentina</td>\n",
       "      <td>Volkswagen Taos Comforlone 250 Comforline</td>\n",
       "      <td>Buenos Aires</td>\n",
       "      <td>42777.0</td>\n",
       "      <td>111111</td>\n",
       "      <td>0</td>\n",
       "    </tr>\n",
       "    <tr>\n",
       "      <th>86890</th>\n",
       "      <td>NaN</td>\n",
       "      <td>NaN</td>\n",
       "      <td>NaN</td>\n",
       "      <td>NaN</td>\n",
       "      <td>Delantera</td>\n",
       "      <td>NaN</td>\n",
       "      <td>Automática</td>\n",
       "      <td>-34.654907</td>\n",
       "      <td>-58.553635</td>\n",
       "      <td>http://http2.mlstatic.com/D_791714-MLA47343468...</td>\n",
       "      <td>2018-03-06T22:49:49.000-04:00</td>\n",
       "      <td>http://perfil.mercadolibre.com.ar/REAN4897457</td>\n",
       "      <td>Confort 1.6</td>\n",
       "      <td>2021</td>\n",
       "      <td>Kangoo Express</td>\n",
       "      <td>1000 km</td>\n",
       "      <td>Nafta</td>\n",
       "      <td>5</td>\n",
       "      <td>Renault</td>\n",
       "      <td>MLA1101151688</td>\n",
       "      <td>Usado</td>\n",
       "      <td>1</td>\n",
       "      <td>306308092</td>\n",
       "      <td>False</td>\n",
       "      <td>False</td>\n",
       "      <td>0</td>\n",
       "      <td>0.0</td>\n",
       "      <td>0.0</td>\n",
       "      <td>0.0</td>\n",
       "      <td>350000</td>\n",
       "      <td>ARS</td>\n",
       "      <td>0</td>\n",
       "      <td>Gregorio De Laferrere</td>\n",
       "      <td>free</td>\n",
       "      <td>2021-11-01T04:00:00.000Z</td>\n",
       "      <td>used</td>\n",
       "      <td>https://auto.mercadolibre.com.ar/MLA-110115168...</td>\n",
       "      <td>True</td>\n",
       "      <td>Bs.As. G.B.A. Oeste</td>\n",
       "      <td>La Matanza</td>\n",
       "      <td>Argentina</td>\n",
       "      <td>Renault Kangoo Express</td>\n",
       "      <td>Buenos Aires</td>\n",
       "      <td>3500.0</td>\n",
       "      <td>1000</td>\n",
       "      <td>1</td>\n",
       "    </tr>\n",
       "  </tbody>\n",
       "</table>\n",
       "<p>86891 rows × 46 columns</p>\n",
       "</div>"
      ],
      "text/plain": [
       "      Atributo Potencia Atributo Largo  ... Kilómetros  clase de etiquetas\n",
       "0                105 hp        4310 mm  ...     105000                   1\n",
       "1                   NaN            NaN  ...       1234                   0\n",
       "2                 44 hp        3295 mm  ...     128000                   1\n",
       "3                 84 hp        3840 mm  ...     184000                   0\n",
       "4                105 hp        4310 mm  ...     230000                   1\n",
       "...                 ...            ...  ...        ...                 ...\n",
       "86886               NaN            NaN  ...      34000                   0\n",
       "86887               NaN            NaN  ...     116000                   0\n",
       "86888               NaN            NaN  ...       1000                   0\n",
       "86889               NaN            NaN  ...     111111                   0\n",
       "86890               NaN            NaN  ...       1000                   1\n",
       "\n",
       "[86891 rows x 46 columns]"
      ]
     },
     "execution_count": 17,
     "metadata": {},
     "output_type": "execute_result"
    }
   ],
   "source": [
    "cars"
   ]
  },
  {
   "cell_type": "markdown",
   "metadata": {
    "id": "bvv1edU4miIp"
   },
   "source": [
    "# Obtuvimos la totalidad de registros por columnas"
   ]
  },
  {
   "cell_type": "code",
   "execution_count": null,
   "metadata": {
    "colab": {
     "base_uri": "https://localhost:8080/"
    },
    "id": "rgzKSdbfmiIp",
    "outputId": "0aa82f9e-5a0a-4ccc-f5b0-e2611b6e1359"
   },
   "outputs": [
    {
     "name": "stdout",
     "output_type": "stream",
     "text": [
      "<class 'pandas.core.frame.DataFrame'>\n",
      "RangeIndex: 86891 entries, 0 to 86890\n",
      "Data columns (total 45 columns):\n",
      " #   Column                           Non-Null Count  Dtype  \n",
      "---  ------                           --------------  -----  \n",
      " 0   Atributo Potencia                74332 non-null  object \n",
      " 1   Atributo Largo                   75085 non-null  object \n",
      " 2   Atributo Cilindrada              75144 non-null  object \n",
      " 3   Atributo Capacidad de personas   75471 non-null  float64\n",
      " 4   Atributo Control de tracción     77992 non-null  object \n",
      " 5   Atributo Motor                   78232 non-null  object \n",
      " 6   Atributo Transmisión             79204 non-null  object \n",
      " 7   Latitud                          86285 non-null  float64\n",
      " 8   Longitud                         86285 non-null  float64\n",
      " 9   Link Miniatura                   86548 non-null  object \n",
      " 10  Registro Vendedor                86891 non-null  object \n",
      " 11  Link Vendedor                    86891 non-null  object \n",
      " 12  Atributo Versión                 86879 non-null  object \n",
      " 13  Atributo Año                     86891 non-null  int64  \n",
      " 14  Atributo Modelo                  86891 non-null  object \n",
      " 15  Atributo Kilómetros              86891 non-null  object \n",
      " 16  Atributo Tipo de combustible     86891 non-null  object \n",
      " 17  Atributo Puertas                 86891 non-null  int64  \n",
      " 18  Atributo Marca                   86891 non-null  object \n",
      " 19  ID                               86891 non-null  object \n",
      " 20  Atributo Condición del ítem      86891 non-null  object \n",
      " 21  Cantidad Disponible              86891 non-null  int64  \n",
      " 22  ID Vendedor                      86891 non-null  int64  \n",
      " 23  Vendedor de Autos                86891 non-null  bool   \n",
      " 24  Agencia Inmobiliaria             86891 non-null  bool   \n",
      " 25  Transacciones Totales Vendedor   86891 non-null  int64  \n",
      " 26  Valoraciones Positivas Vendedor  86891 non-null  float64\n",
      " 27  Valoraciones Negativas Vendedor  86891 non-null  float64\n",
      " 28  Valoraciones Neutrales Vendedor  86891 non-null  float64\n",
      " 29  Precio                           86891 non-null  int64  \n",
      " 30  Moneda                           86891 non-null  object \n",
      " 31  Unidades Vendidas                86891 non-null  int64  \n",
      " 32  Ciudad Vendedor                  86891 non-null  object \n",
      " 33  Tipo de Publicación              86891 non-null  object \n",
      " 34  Fecha Finalización               86891 non-null  object \n",
      " 35  Condición                        86891 non-null  object \n",
      " 36  Link                             86891 non-null  object \n",
      " 37  Acepta MercadoPago               86891 non-null  bool   \n",
      " 38  Estado                           86891 non-null  object \n",
      " 39  Ciudad                           86891 non-null  object \n",
      " 40  País Vendedor                    86891 non-null  object \n",
      " 41  Titulo                           86891 non-null  object \n",
      " 42  Estado Vendedor                  86891 non-null  object \n",
      " 43  Precio USD                       86891 non-null  float64\n",
      " 44  Kilómetros                       86891 non-null  int64  \n",
      "dtypes: bool(3), float64(7), int64(8), object(27)\n",
      "memory usage: 28.1+ MB\n",
      "None\n"
     ]
    }
   ],
   "source": [
    "#registros por columnas\n",
    "print(cars.info())"
   ]
  },
  {
   "cell_type": "markdown",
   "metadata": {
    "id": "jjjpDumfmiIq"
   },
   "source": [
    "# Analizamos el tipo de dato de cada columna"
   ]
  },
  {
   "cell_type": "code",
   "execution_count": null,
   "metadata": {
    "colab": {
     "base_uri": "https://localhost:8080/"
    },
    "id": "Uz74gxNUmiIr",
    "outputId": "d254103c-146c-478d-b64c-d0719e08b3be"
   },
   "outputs": [
    {
     "data": {
      "text/plain": [
       "Atributo Potencia                   object\n",
       "Atributo Largo                      object\n",
       "Atributo Cilindrada                 object\n",
       "Atributo Capacidad de personas     float64\n",
       "Atributo Control de tracción        object\n",
       "Atributo Motor                      object\n",
       "Atributo Transmisión                object\n",
       "Latitud                            float64\n",
       "Longitud                           float64\n",
       "Link Miniatura                      object\n",
       "Registro Vendedor                   object\n",
       "Link Vendedor                       object\n",
       "Atributo Versión                    object\n",
       "Atributo Año                         int64\n",
       "Atributo Modelo                     object\n",
       "Atributo Kilómetros                 object\n",
       "Atributo Tipo de combustible        object\n",
       "Atributo Puertas                     int64\n",
       "Atributo Marca                      object\n",
       "ID                                  object\n",
       "Atributo Condición del ítem         object\n",
       "Cantidad Disponible                  int64\n",
       "ID Vendedor                          int64\n",
       "Vendedor de Autos                     bool\n",
       "Agencia Inmobiliaria                  bool\n",
       "Transacciones Totales Vendedor       int64\n",
       "Valoraciones Positivas Vendedor    float64\n",
       "Valoraciones Negativas Vendedor    float64\n",
       "Valoraciones Neutrales Vendedor    float64\n",
       "Precio                               int64\n",
       "Moneda                              object\n",
       "Unidades Vendidas                    int64\n",
       "Ciudad Vendedor                     object\n",
       "Tipo de Publicación                 object\n",
       "Fecha Finalización                  object\n",
       "Condición                           object\n",
       "Link                                object\n",
       "Acepta MercadoPago                    bool\n",
       "Estado                              object\n",
       "Ciudad                              object\n",
       "País Vendedor                       object\n",
       "Titulo                              object\n",
       "Estado Vendedor                     object\n",
       "Precio USD                         float64\n",
       "Kilómetros                           int64\n",
       "dtype: object"
      ]
     },
     "execution_count": 12,
     "metadata": {},
     "output_type": "execute_result"
    }
   ],
   "source": [
    "#Analizamos el tipo de dato\n",
    "cars.dtypes"
   ]
  },
  {
   "cell_type": "markdown",
   "metadata": {
    "id": "rSuQJ0EEmiIt"
   },
   "source": [
    "# Listamos los nombres de las columnas"
   ]
  },
  {
   "cell_type": "code",
   "execution_count": null,
   "metadata": {
    "colab": {
     "base_uri": "https://localhost:8080/"
    },
    "id": "jdikGgKymiIt",
    "outputId": "860d6ba0-df03-4f7a-f5e6-a857eb49575b"
   },
   "outputs": [
    {
     "data": {
      "text/plain": [
       "Index(['Atributo Potencia', 'Atributo Largo', 'Atributo Cilindrada',\n",
       "       'Atributo Capacidad de personas', 'Atributo Control de tracción',\n",
       "       'Atributo Motor', 'Atributo Transmisión', 'Latitud', 'Longitud',\n",
       "       'Link Miniatura', 'Registro Vendedor', 'Link Vendedor',\n",
       "       'Atributo Versión', 'Atributo Año', 'Atributo Modelo',\n",
       "       'Atributo Kilómetros', 'Atributo Tipo de combustible',\n",
       "       'Atributo Puertas', 'Atributo Marca', 'ID',\n",
       "       'Atributo Condición del ítem', 'Cantidad Disponible', 'ID Vendedor',\n",
       "       'Vendedor de Autos', 'Agencia Inmobiliaria',\n",
       "       'Transacciones Totales Vendedor', 'Valoraciones Positivas Vendedor',\n",
       "       'Valoraciones Negativas Vendedor', 'Valoraciones Neutrales Vendedor',\n",
       "       'Precio', 'Moneda', 'Unidades Vendidas', 'Ciudad Vendedor',\n",
       "       'Tipo de Publicación', 'Fecha Finalización', 'Condición', 'Link',\n",
       "       'Acepta MercadoPago', 'Estado', 'Ciudad', 'País Vendedor', 'Titulo',\n",
       "       'Estado Vendedor', 'Precio USD', 'Kilómetros'],\n",
       "      dtype='object')"
      ]
     },
     "execution_count": 13,
     "metadata": {},
     "output_type": "execute_result"
    }
   ],
   "source": [
    "#Seleccionamos todas las columnas\n",
    "cars.columns"
   ]
  },
  {
   "cell_type": "markdown",
   "metadata": {
    "id": "C0X4XTOKmiIu"
   },
   "source": [
    "# Separamos los features en X e y"
   ]
  },
  {
   "cell_type": "code",
   "execution_count": null,
   "metadata": {
    "id": "235t8LR6VDaI"
   },
   "outputs": [],
   "source": [
    "columnas_analisis = ['Atributo Capacidad de personas', 'Atributo Control de tracción', 'Atributo Transmisión', 'Latitud', 'Longitud',\n",
    "       'Link Miniatura', 'Registro Vendedor', 'Link Vendedor',\n",
    "       'Atributo Versión', 'Atributo Año', 'Atributo Modelo',\n",
    "       'Atributo Kilómetros', 'Atributo Tipo de combustible',\n",
    "       'Atributo Puertas', 'Atributo Marca', 'ID',\n",
    "       'Atributo Condición del ítem', 'Cantidad Disponible', 'ID Vendedor',\n",
    "       'Vendedor de Autos', 'Agencia Inmobiliaria',\n",
    "       'Transacciones Totales Vendedor', 'Valoraciones Positivas Vendedor',\n",
    "       'Valoraciones Negativas Vendedor', 'Valoraciones Neutrales Vendedor',\n",
    "       'Precio', 'Moneda', 'Unidades Vendidas', 'Ciudad Vendedor',\n",
    "       'Tipo de Publicación', 'Fecha Finalización', 'Condición', 'Link',\n",
    "       'Acepta MercadoPago', 'Estado', 'Ciudad', 'País Vendedor', 'Titulo',\n",
    "       'Estado Vendedor', 'Precio USD', 'Kilómetros']"
   ]
  },
  {
   "cell_type": "markdown",
   "metadata": {
    "id": "Lw_jNrbpCp5B"
   },
   "source": [
    "Nuevamente, usaremos el conjunto de datos de automóviles de filtrados . Contiene especificaciones técnicas de 86000 automóviles, con datos sobre atributos como Cilindrada, Motor, tipo de combustible, y también atributo Transmisión.\n",
    "\n",
    "Nuestro objetivo es clasificar los automoviles en dos clases según las ruedas motrices. Básicamente, hay autos con tracción delantera, autos con tracción trasera y autos con tracción en todas las ruedas en nuestra base de datos. Cada tipo tiene sus propios pros y contras, pero ese no es el tema aquí. \n",
    "\n",
    "\n",
    " \n",
    "Queremos predecir la probabilidad de que un automóvil tenga tracción delantera, según el Precio USD y la cantidad de puertas. Para hacerlo, necesitamos administrar las etiquetas, donde los autos con tracción delantera recibirán la etiqueta 1 (positivo), los autos con tracción trasera y con tracción total etiqueta 0 (negativo)."
   ]
  },
  {
   "cell_type": "code",
   "execution_count": null,
   "metadata": {
    "colab": {
     "base_uri": "https://localhost:8080/",
     "height": 589
    },
    "id": "erxX8mjoHCiw",
    "outputId": "2653b199-cd8b-4dba-93a8-9604330eff3a"
   },
   "outputs": [
    {
     "data": {
      "text/html": [
       "<div>\n",
       "<style scoped>\n",
       "    .dataframe tbody tr th:only-of-type {\n",
       "        vertical-align: middle;\n",
       "    }\n",
       "\n",
       "    .dataframe tbody tr th {\n",
       "        vertical-align: top;\n",
       "    }\n",
       "\n",
       "    .dataframe thead th {\n",
       "        text-align: right;\n",
       "    }\n",
       "</style>\n",
       "<table border=\"1\" class=\"dataframe\">\n",
       "  <thead>\n",
       "    <tr style=\"text-align: right;\">\n",
       "      <th></th>\n",
       "      <th>Atributo Marca</th>\n",
       "      <th>Atributo Modelo</th>\n",
       "      <th>Atributo Versión</th>\n",
       "      <th>Atributo Tipo de combustible</th>\n",
       "      <th>Atributo Control de tracción</th>\n",
       "      <th>Atributo Transmisión</th>\n",
       "      <th>Atributo Cilindrada</th>\n",
       "      <th>Atributo Potencia</th>\n",
       "      <th>Atributo Motor</th>\n",
       "      <th>Precio USD</th>\n",
       "      <th>Atributo Año</th>\n",
       "      <th>Atributo Puertas</th>\n",
       "      <th>clase de etiquetas</th>\n",
       "    </tr>\n",
       "  </thead>\n",
       "  <tbody>\n",
       "    <tr>\n",
       "      <th>0</th>\n",
       "      <td>Daihatsu</td>\n",
       "      <td>Applause</td>\n",
       "      <td>1.6 Family</td>\n",
       "      <td>Nafta</td>\n",
       "      <td>Delantera</td>\n",
       "      <td>Manual</td>\n",
       "      <td>1.6 L</td>\n",
       "      <td>105 hp</td>\n",
       "      <td>1.6</td>\n",
       "      <td>4400.0</td>\n",
       "      <td>1998</td>\n",
       "      <td>4</td>\n",
       "      <td>1</td>\n",
       "    </tr>\n",
       "    <tr>\n",
       "      <th>1</th>\n",
       "      <td>Daihatsu</td>\n",
       "      <td>Piaggio</td>\n",
       "      <td>Piaggio porter</td>\n",
       "      <td>Nafta</td>\n",
       "      <td>NaN</td>\n",
       "      <td>NaN</td>\n",
       "      <td>NaN</td>\n",
       "      <td>NaN</td>\n",
       "      <td>NaN</td>\n",
       "      <td>4800.0</td>\n",
       "      <td>1997</td>\n",
       "      <td>5</td>\n",
       "      <td>0</td>\n",
       "    </tr>\n",
       "    <tr>\n",
       "      <th>2</th>\n",
       "      <td>Daihatsu</td>\n",
       "      <td>Cuore</td>\n",
       "      <td>0.8</td>\n",
       "      <td>Nafta</td>\n",
       "      <td>Delantera</td>\n",
       "      <td>Manual</td>\n",
       "      <td>0.8 L</td>\n",
       "      <td>44 hp</td>\n",
       "      <td>0.8</td>\n",
       "      <td>4500.0</td>\n",
       "      <td>1996</td>\n",
       "      <td>5</td>\n",
       "      <td>1</td>\n",
       "    </tr>\n",
       "    <tr>\n",
       "      <th>3</th>\n",
       "      <td>Daihatsu</td>\n",
       "      <td>Terios</td>\n",
       "      <td>1.3 Sx 4wd</td>\n",
       "      <td>Nafta</td>\n",
       "      <td>4x4</td>\n",
       "      <td>Manual</td>\n",
       "      <td>1.3 L</td>\n",
       "      <td>84 hp</td>\n",
       "      <td>1.3</td>\n",
       "      <td>9500.0</td>\n",
       "      <td>1998</td>\n",
       "      <td>5</td>\n",
       "      <td>0</td>\n",
       "    </tr>\n",
       "    <tr>\n",
       "      <th>4</th>\n",
       "      <td>Daihatsu</td>\n",
       "      <td>Applause</td>\n",
       "      <td>1.6 Prime</td>\n",
       "      <td>Nafta</td>\n",
       "      <td>Delantera</td>\n",
       "      <td>Manual</td>\n",
       "      <td>1.6 L</td>\n",
       "      <td>105 hp</td>\n",
       "      <td>1.6</td>\n",
       "      <td>1000.0</td>\n",
       "      <td>1992</td>\n",
       "      <td>4</td>\n",
       "      <td>1</td>\n",
       "    </tr>\n",
       "    <tr>\n",
       "      <th>5</th>\n",
       "      <td>Daihatsu</td>\n",
       "      <td>Hijet</td>\n",
       "      <td>furgón</td>\n",
       "      <td>Nafta</td>\n",
       "      <td>Delantera</td>\n",
       "      <td>Manual</td>\n",
       "      <td>NaN</td>\n",
       "      <td>NaN</td>\n",
       "      <td>47 cc</td>\n",
       "      <td>2800.0</td>\n",
       "      <td>1981</td>\n",
       "      <td>4</td>\n",
       "      <td>1</td>\n",
       "    </tr>\n",
       "    <tr>\n",
       "      <th>6</th>\n",
       "      <td>Daihatsu</td>\n",
       "      <td>Cuore</td>\n",
       "      <td>Cuore</td>\n",
       "      <td>Nafta</td>\n",
       "      <td>NaN</td>\n",
       "      <td>NaN</td>\n",
       "      <td>NaN</td>\n",
       "      <td>NaN</td>\n",
       "      <td>NaN</td>\n",
       "      <td>5500.0</td>\n",
       "      <td>1993</td>\n",
       "      <td>5</td>\n",
       "      <td>0</td>\n",
       "    </tr>\n",
       "    <tr>\n",
       "      <th>7</th>\n",
       "      <td>Daihatsu</td>\n",
       "      <td>Charade</td>\n",
       "      <td>1.3 Cx</td>\n",
       "      <td>Nafta</td>\n",
       "      <td>Delantera</td>\n",
       "      <td>Manual</td>\n",
       "      <td>1.3 L</td>\n",
       "      <td>84 hp</td>\n",
       "      <td>1.3</td>\n",
       "      <td>3270.0</td>\n",
       "      <td>1992</td>\n",
       "      <td>5</td>\n",
       "      <td>1</td>\n",
       "    </tr>\n",
       "    <tr>\n",
       "      <th>8</th>\n",
       "      <td>Daihatsu</td>\n",
       "      <td>Terios</td>\n",
       "      <td>1.3 Sx 4wd</td>\n",
       "      <td>Nafta</td>\n",
       "      <td>4x4</td>\n",
       "      <td>Manual</td>\n",
       "      <td>1.3 L</td>\n",
       "      <td>84 hp</td>\n",
       "      <td>1.3</td>\n",
       "      <td>6300.0</td>\n",
       "      <td>1998</td>\n",
       "      <td>5</td>\n",
       "      <td>0</td>\n",
       "    </tr>\n",
       "    <tr>\n",
       "      <th>9</th>\n",
       "      <td>Daihatsu</td>\n",
       "      <td>Terios</td>\n",
       "      <td>1.3 Sx 4wd</td>\n",
       "      <td>Nafta</td>\n",
       "      <td>4x4</td>\n",
       "      <td>Manual</td>\n",
       "      <td>1.3 L</td>\n",
       "      <td>84 hp</td>\n",
       "      <td>1.3</td>\n",
       "      <td>4950.0</td>\n",
       "      <td>1998</td>\n",
       "      <td>5</td>\n",
       "      <td>0</td>\n",
       "    </tr>\n",
       "    <tr>\n",
       "      <th>10</th>\n",
       "      <td>Daihatsu</td>\n",
       "      <td>Cuore</td>\n",
       "      <td>0.8</td>\n",
       "      <td>Nafta</td>\n",
       "      <td>Delantera</td>\n",
       "      <td>Manual</td>\n",
       "      <td>0.8 L</td>\n",
       "      <td>44 hp</td>\n",
       "      <td>0.8</td>\n",
       "      <td>2800.0</td>\n",
       "      <td>1993</td>\n",
       "      <td>5</td>\n",
       "      <td>1</td>\n",
       "    </tr>\n",
       "    <tr>\n",
       "      <th>11</th>\n",
       "      <td>Daihatsu</td>\n",
       "      <td>Terios</td>\n",
       "      <td>1.3 Sx 4wd</td>\n",
       "      <td>Nafta</td>\n",
       "      <td>4x4</td>\n",
       "      <td>Manual</td>\n",
       "      <td>1.3 L</td>\n",
       "      <td>84 hp</td>\n",
       "      <td>1.3</td>\n",
       "      <td>8600.0</td>\n",
       "      <td>1999</td>\n",
       "      <td>5</td>\n",
       "      <td>0</td>\n",
       "    </tr>\n",
       "    <tr>\n",
       "      <th>12</th>\n",
       "      <td>Daihatsu</td>\n",
       "      <td>Charade</td>\n",
       "      <td>1.3 Cx</td>\n",
       "      <td>Nafta</td>\n",
       "      <td>Delantera</td>\n",
       "      <td>Manual</td>\n",
       "      <td>1.3 L</td>\n",
       "      <td>84 hp</td>\n",
       "      <td>1.3</td>\n",
       "      <td>2950.0</td>\n",
       "      <td>1993</td>\n",
       "      <td>5</td>\n",
       "      <td>1</td>\n",
       "    </tr>\n",
       "    <tr>\n",
       "      <th>13</th>\n",
       "      <td>Daihatsu</td>\n",
       "      <td>Charade</td>\n",
       "      <td>Gtti 1.0 12v Turbo</td>\n",
       "      <td>Nafta</td>\n",
       "      <td>NaN</td>\n",
       "      <td>NaN</td>\n",
       "      <td>NaN</td>\n",
       "      <td>NaN</td>\n",
       "      <td>NaN</td>\n",
       "      <td>6300.0</td>\n",
       "      <td>1996</td>\n",
       "      <td>2</td>\n",
       "      <td>0</td>\n",
       "    </tr>\n",
       "    <tr>\n",
       "      <th>14</th>\n",
       "      <td>Daihatsu</td>\n",
       "      <td>Terios</td>\n",
       "      <td>1.3 Sx 4wd</td>\n",
       "      <td>Nafta</td>\n",
       "      <td>4x4</td>\n",
       "      <td>Manual</td>\n",
       "      <td>1.3 L</td>\n",
       "      <td>84 hp</td>\n",
       "      <td>1.3</td>\n",
       "      <td>7000.0</td>\n",
       "      <td>1999</td>\n",
       "      <td>5</td>\n",
       "      <td>0</td>\n",
       "    </tr>\n",
       "  </tbody>\n",
       "</table>\n",
       "</div>"
      ],
      "text/plain": [
       "   Atributo Marca Atributo Modelo  ... Atributo Puertas clase de etiquetas\n",
       "0        Daihatsu        Applause  ...                4                  1\n",
       "1        Daihatsu         Piaggio  ...                5                  0\n",
       "2        Daihatsu           Cuore  ...                5                  1\n",
       "3        Daihatsu          Terios  ...                5                  0\n",
       "4        Daihatsu        Applause  ...                4                  1\n",
       "5        Daihatsu           Hijet  ...                4                  1\n",
       "6        Daihatsu           Cuore  ...                5                  0\n",
       "7        Daihatsu         Charade  ...                5                  1\n",
       "8        Daihatsu          Terios  ...                5                  0\n",
       "9        Daihatsu          Terios  ...                5                  0\n",
       "10       Daihatsu           Cuore  ...                5                  1\n",
       "11       Daihatsu          Terios  ...                5                  0\n",
       "12       Daihatsu         Charade  ...                5                  1\n",
       "13       Daihatsu         Charade  ...                2                  0\n",
       "14       Daihatsu          Terios  ...                5                  0\n",
       "\n",
       "[15 rows x 13 columns]"
      ]
     },
     "execution_count": 30,
     "metadata": {},
     "output_type": "execute_result"
    }
   ],
   "source": [
    "# create a mapping from vehicle class\n",
    "\n",
    "cars['clase de etiquetas'] = cars[\"Atributo Control de tracción\"].apply(lambda x: 1 if x == 'Delantera' else 0)\n",
    "\n",
    "cars['clase de etiquetas'].value_counts()\n",
    "\n",
    "cars_new = cars[[\"Atributo Marca\", \"Atributo Modelo\", \"Atributo Versión\",\"Atributo Tipo de combustible\",\"Atributo Control de tracción\",\"Atributo Transmisión\",\"Atributo Cilindrada\",\"Atributo Potencia\",\"Atributo Motor\",\"Precio USD\",\"Atributo Año\",\"Atributo Puertas\",\"clase de etiquetas\"]]\n",
    "\n",
    "cars_new.head(15)"
   ]
  },
  {
   "cell_type": "markdown",
   "metadata": {
    "id": "m9aTSJ9wLZ3_"
   },
   "source": [
    "Los autos con tracción delantera están etiquetados como clase positiva (1), mientras que los autos con tracción trasera y con tracción total(4X4) están etiquetados como clase negativa (0)"
   ]
  },
  {
   "cell_type": "markdown",
   "metadata": {
    "id": "bIxHCKphLo_N"
   },
   "source": [
    "#GRAFICO"
   ]
  },
  {
   "cell_type": "markdown",
   "metadata": {
    "id": "CuJMbPHtLkoi"
   },
   "source": [
    "Si graficamos el desplazamiento y el consumo combinado de combustible como un par, podemos notar un patrón en el que los autos con tracción delantera (clase 1 - puntos naranjas) tienden a consumir menos combustible (valor de mpg más alto) y tienen un desplazamiento menor.\n"
   ]
  },
  {
   "cell_type": "code",
   "execution_count": null,
   "metadata": {
    "colab": {
     "base_uri": "https://localhost:8080/"
    },
    "id": "aYKW5GvPYV0M",
    "outputId": "cba4ca6b-2cf2-4652-81a8-9a5dcc0ca69f"
   },
   "outputs": [
    {
     "data": {
      "text/plain": [
       "0        1\n",
       "1        0\n",
       "2        1\n",
       "3        0\n",
       "4        1\n",
       "        ..\n",
       "86886    0\n",
       "86887    0\n",
       "86888    0\n",
       "86889    0\n",
       "86890    1\n",
       "Name: clase de etiquetas, Length: 86891, dtype: int64"
      ]
     },
     "execution_count": 38,
     "metadata": {},
     "output_type": "execute_result"
    }
   ],
   "source": [
    "cars_new['clase de etiquetas']"
   ]
  },
  {
   "cell_type": "code",
   "execution_count": null,
   "metadata": {
    "colab": {
     "base_uri": "https://localhost:8080/",
     "height": 676
    },
    "id": "Nn9QGcCMY_oN",
    "outputId": "64c242d2-c4a0-4601-cb63-45e6a45fd588"
   },
   "outputs": [
    {
     "data": {
      "text/html": [
       "<div>\n",
       "<style scoped>\n",
       "    .dataframe tbody tr th:only-of-type {\n",
       "        vertical-align: middle;\n",
       "    }\n",
       "\n",
       "    .dataframe tbody tr th {\n",
       "        vertical-align: top;\n",
       "    }\n",
       "\n",
       "    .dataframe thead th {\n",
       "        text-align: right;\n",
       "    }\n",
       "</style>\n",
       "<table border=\"1\" class=\"dataframe\">\n",
       "  <thead>\n",
       "    <tr style=\"text-align: right;\">\n",
       "      <th></th>\n",
       "      <th></th>\n",
       "      <th>Precio USD</th>\n",
       "    </tr>\n",
       "    <tr>\n",
       "      <th>Atributo Puertas</th>\n",
       "      <th>clase de etiquetas</th>\n",
       "      <th></th>\n",
       "    </tr>\n",
       "  </thead>\n",
       "  <tbody>\n",
       "    <tr>\n",
       "      <th>-2</th>\n",
       "      <th>1</th>\n",
       "      <td>13550.000000</td>\n",
       "    </tr>\n",
       "    <tr>\n",
       "      <th rowspan=\"2\" valign=\"top\">1</th>\n",
       "      <th>0</th>\n",
       "      <td>14920.000000</td>\n",
       "    </tr>\n",
       "    <tr>\n",
       "      <th>1</th>\n",
       "      <td>2950.000000</td>\n",
       "    </tr>\n",
       "    <tr>\n",
       "      <th rowspan=\"2\" valign=\"top\">2</th>\n",
       "      <th>0</th>\n",
       "      <td>15130.217235</td>\n",
       "    </tr>\n",
       "    <tr>\n",
       "      <th>1</th>\n",
       "      <td>19127.091703</td>\n",
       "    </tr>\n",
       "    <tr>\n",
       "      <th rowspan=\"2\" valign=\"top\">3</th>\n",
       "      <th>0</th>\n",
       "      <td>10816.634394</td>\n",
       "    </tr>\n",
       "    <tr>\n",
       "      <th>1</th>\n",
       "      <td>10842.401116</td>\n",
       "    </tr>\n",
       "    <tr>\n",
       "      <th rowspan=\"2\" valign=\"top\">4</th>\n",
       "      <th>0</th>\n",
       "      <td>27804.040920</td>\n",
       "    </tr>\n",
       "    <tr>\n",
       "      <th>1</th>\n",
       "      <td>13303.887233</td>\n",
       "    </tr>\n",
       "    <tr>\n",
       "      <th rowspan=\"2\" valign=\"top\">5</th>\n",
       "      <th>0</th>\n",
       "      <td>19237.798912</td>\n",
       "    </tr>\n",
       "    <tr>\n",
       "      <th>1</th>\n",
       "      <td>13267.724591</td>\n",
       "    </tr>\n",
       "    <tr>\n",
       "      <th rowspan=\"2\" valign=\"top\">6</th>\n",
       "      <th>0</th>\n",
       "      <td>13643.809524</td>\n",
       "    </tr>\n",
       "    <tr>\n",
       "      <th>1</th>\n",
       "      <td>16733.083333</td>\n",
       "    </tr>\n",
       "    <tr>\n",
       "      <th rowspan=\"2\" valign=\"top\">8</th>\n",
       "      <th>0</th>\n",
       "      <td>24750.000000</td>\n",
       "    </tr>\n",
       "    <tr>\n",
       "      <th>1</th>\n",
       "      <td>42500.000000</td>\n",
       "    </tr>\n",
       "    <tr>\n",
       "      <th>44</th>\n",
       "      <th>0</th>\n",
       "      <td>16990.000000</td>\n",
       "    </tr>\n",
       "    <tr>\n",
       "      <th>58</th>\n",
       "      <th>0</th>\n",
       "      <td>27539.990000</td>\n",
       "    </tr>\n",
       "    <tr>\n",
       "      <th>1983</th>\n",
       "      <th>0</th>\n",
       "      <td>4200.000000</td>\n",
       "    </tr>\n",
       "    <tr>\n",
       "      <th>60241</th>\n",
       "      <th>1</th>\n",
       "      <td>19000.000000</td>\n",
       "    </tr>\n",
       "  </tbody>\n",
       "</table>\n",
       "</div>"
      ],
      "text/plain": [
       "                                       Precio USD\n",
       "Atributo Puertas clase de etiquetas              \n",
       "-2               1                   13550.000000\n",
       " 1               0                   14920.000000\n",
       "                 1                    2950.000000\n",
       " 2               0                   15130.217235\n",
       "                 1                   19127.091703\n",
       " 3               0                   10816.634394\n",
       "                 1                   10842.401116\n",
       " 4               0                   27804.040920\n",
       "                 1                   13303.887233\n",
       " 5               0                   19237.798912\n",
       "                 1                   13267.724591\n",
       " 6               0                   13643.809524\n",
       "                 1                   16733.083333\n",
       " 8               0                   24750.000000\n",
       "                 1                   42500.000000\n",
       " 44              0                   16990.000000\n",
       " 58              0                   27539.990000\n",
       " 1983            0                    4200.000000\n",
       " 60241           1                   19000.000000"
      ]
     },
     "execution_count": 41,
     "metadata": {},
     "output_type": "execute_result"
    }
   ],
   "source": [
    "# Filtramos la data y realizamos una agrupacion\n",
    "cars_new_facet_grid = cars_new.groupby(['Atributo Puertas','clase de etiquetas']).mean()[['Precio USD']]\n",
    "cars_new_facet_grid"
   ]
  },
  {
   "cell_type": "code",
   "execution_count": null,
   "metadata": {
    "id": "V0iKwRHBa7oU"
   },
   "outputs": [],
   "source": [
    "cars_new_facet_grid_index_dropped = cars_new_facet_grid.reset_index()"
   ]
  },
  {
   "cell_type": "code",
   "execution_count": null,
   "metadata": {
    "colab": {
     "base_uri": "https://localhost:8080/",
     "height": 242
    },
    "id": "n7S2es_hbUqF",
    "outputId": "a5988691-0dc8-4be5-a675-a35ba056d29c"
   },
   "outputs": [
    {
     "data": {
      "text/plain": [
       "<seaborn.axisgrid.FacetGrid at 0x7f59f1d12110>"
      ]
     },
     "execution_count": 43,
     "metadata": {},
     "output_type": "execute_result"
    },
    {
     "data": {
      "image/png": "[encoded data removed]",
      "text/plain": [
       "<Figure size 262.6x216 with 1 Axes>"
      ]
     },
     "metadata": {
      "needs_background": "light"
     },
     "output_type": "display_data"
    }
   ],
   "source": [
    "g = sns.FacetGrid(cars_new_facet_grid_index_dropped)\n",
    "g.map_dataframe(sns.scatterplot, x=\"Atributo Puertas\", y=\"Precio USD\", hue=\"clase de etiquetas\")\n",
    "g.add_legend()"
   ]
  },
  {
   "cell_type": "markdown",
   "metadata": {
    "id": "AQvZ2J2PL1TX"
   },
   "source": [
    "#Formato de datos y definición de modelos\n",
    "Primero, seleccionamos las columnas deseadas de nuestro conjunto de datos.\n",
    "\n"
   ]
  },
  {
   "cell_type": "code",
   "execution_count": null,
   "metadata": {
    "id": "lqSVwEKIPBNw"
   },
   "outputs": [],
   "source": [
    "# data selection\n",
    "X = cars_new[['Atributo Puertas', 'Precio USD']]\n",
    "y = cars[\"clase de etiquetas\"]\n",
    "\n",
    "# data splitting \n",
    "X_train, X_test, y_train, y_test = train_test_split(X, y, random_state=0)"
   ]
  },
  {
   "cell_type": "markdown",
   "metadata": {
    "id": "y4Djqp7uSXE2"
   },
   "source": [
    "#Realizamos la estandarización\n",
    "Scikit-learn también tiene una clase para eso, se llama StandardScaler . Veamos un ejemplo:"
   ]
  },
  {
   "cell_type": "code",
   "execution_count": null,
   "metadata": {
    "id": "e-mtJVEiSlbd"
   },
   "outputs": [],
   "source": [
    "from sklearn.preprocessing import StandardScaler \n",
    "\n",
    "# create the scaler \n",
    "stscaler = StandardScaler() \n",
    "\n",
    "# take the data you want to scale\n",
    "X = cars_new[['Atributo Puertas','Precio USD']]\n",
    "\n",
    "# apply the scaler to the data\n",
    "X_scaled = stscaler.fit_transform(X)"
   ]
  },
  {
   "cell_type": "markdown",
   "metadata": {
    "id": "i9TpLma-UNFv"
   },
   "source": [
    "Ahora, comparemos los datos antes y después de la estandarización.\n",
    "\n"
   ]
  },
  {
   "cell_type": "code",
   "execution_count": null,
   "metadata": {
    "colab": {
     "base_uri": "https://localhost:8080/",
     "height": 300
    },
    "id": "O-FrANd4ia-j",
    "outputId": "2c3af822-f593-437c-eb50-b728cdb8d78a"
   },
   "outputs": [
    {
     "data": {
      "text/html": [
       "<div>\n",
       "<style scoped>\n",
       "    .dataframe tbody tr th:only-of-type {\n",
       "        vertical-align: middle;\n",
       "    }\n",
       "\n",
       "    .dataframe tbody tr th {\n",
       "        vertical-align: top;\n",
       "    }\n",
       "\n",
       "    .dataframe thead th {\n",
       "        text-align: right;\n",
       "    }\n",
       "</style>\n",
       "<table border=\"1\" class=\"dataframe\">\n",
       "  <thead>\n",
       "    <tr style=\"text-align: right;\">\n",
       "      <th></th>\n",
       "      <th>Precio USD</th>\n",
       "      <th>Atributo Año</th>\n",
       "      <th>Atributo Puertas</th>\n",
       "      <th>clase de etiquetas</th>\n",
       "    </tr>\n",
       "  </thead>\n",
       "  <tbody>\n",
       "    <tr>\n",
       "      <th>count</th>\n",
       "      <td>86891.00000</td>\n",
       "      <td>86891.000000</td>\n",
       "      <td>86891.000000</td>\n",
       "      <td>86891.000000</td>\n",
       "    </tr>\n",
       "    <tr>\n",
       "      <th>mean</th>\n",
       "      <td>15988.24971</td>\n",
       "      <td>2011.794513</td>\n",
       "      <td>4.976511</td>\n",
       "      <td>0.668424</td>\n",
       "    </tr>\n",
       "    <tr>\n",
       "      <th>std</th>\n",
       "      <td>12179.86001</td>\n",
       "      <td>7.114097</td>\n",
       "      <td>204.461904</td>\n",
       "      <td>0.470782</td>\n",
       "    </tr>\n",
       "    <tr>\n",
       "      <th>min</th>\n",
       "      <td>504.90000</td>\n",
       "      <td>1900.000000</td>\n",
       "      <td>-2.000000</td>\n",
       "      <td>0.000000</td>\n",
       "    </tr>\n",
       "    <tr>\n",
       "      <th>25%</th>\n",
       "      <td>8200.00000</td>\n",
       "      <td>2010.000000</td>\n",
       "      <td>4.000000</td>\n",
       "      <td>0.000000</td>\n",
       "    </tr>\n",
       "    <tr>\n",
       "      <th>50%</th>\n",
       "      <td>13000.00000</td>\n",
       "      <td>2013.000000</td>\n",
       "      <td>4.000000</td>\n",
       "      <td>1.000000</td>\n",
       "    </tr>\n",
       "    <tr>\n",
       "      <th>75%</th>\n",
       "      <td>19500.00000</td>\n",
       "      <td>2016.000000</td>\n",
       "      <td>5.000000</td>\n",
       "      <td>1.000000</td>\n",
       "    </tr>\n",
       "    <tr>\n",
       "      <th>max</th>\n",
       "      <td>119900.00000</td>\n",
       "      <td>2022.000000</td>\n",
       "      <td>60241.000000</td>\n",
       "      <td>1.000000</td>\n",
       "    </tr>\n",
       "  </tbody>\n",
       "</table>\n",
       "</div>"
      ],
      "text/plain": [
       "         Precio USD  Atributo Año  Atributo Puertas  clase de etiquetas\n",
       "count   86891.00000  86891.000000      86891.000000        86891.000000\n",
       "mean    15988.24971   2011.794513          4.976511            0.668424\n",
       "std     12179.86001      7.114097        204.461904            0.470782\n",
       "min       504.90000   1900.000000         -2.000000            0.000000\n",
       "25%      8200.00000   2010.000000          4.000000            0.000000\n",
       "50%     13000.00000   2013.000000          4.000000            1.000000\n",
       "75%     19500.00000   2016.000000          5.000000            1.000000\n",
       "max    119900.00000   2022.000000      60241.000000            1.000000"
      ]
     },
     "execution_count": 46,
     "metadata": {},
     "output_type": "execute_result"
    }
   ],
   "source": [
    "cars_new.describe()"
   ]
  },
  {
   "cell_type": "markdown",
   "metadata": {
    "id": "ILgmKGx4UPlN"
   },
   "source": [
    "Como era de esperar, podemos observar que la desviación estándar de los datos ahora es significativamente menor y el rango de los datos también es menor, por lo que los valores están más juntos."
   ]
  },
  {
   "cell_type": "markdown",
   "metadata": {
    "id": "S0iBccyBUYGo"
   },
   "source": [
    "En el siguiente paso, queremos comprobar si esta medida aporta algunos beneficios o inconvenientes para nuestro modelo."
   ]
  },
  {
   "cell_type": "markdown",
   "metadata": {
    "id": "D5JyppSDUdbV"
   },
   "source": [
    "#Definición de modelo\n",
    "Luego podemos aplicar el modelo. Como es habitual con Scikit-learn, este es un proceso muy sencillo."
   ]
  },
  {
   "cell_type": "markdown",
   "metadata": {
    "id": "RF5R0lMLgZoO"
   },
   "source": [
    "Podemos escribir el siguiente código python para representar los datos anteriores:"
   ]
  },
  {
   "cell_type": "code",
   "execution_count": null,
   "metadata": {
    "id": "ipkAP2kqgZoO"
   },
   "outputs": [],
   "source": [
    "# Paso 1: importamos la librería numérica NumPy\n",
    "import numpy as np\n",
    "\n",
    "# Paso 2: preparamos los datos\n",
    "X = np.array([1,2,3, 4, 5, 6, 7,8, 9, 10]).reshape(-1,1)\n",
    "y = np.array([1, 0, 1, 0, 1, 0, 1, 0, 1, 0])\n",
    "\n",
    "#Aclaración: X es la cantidad de puertas que tien un automovil e y si tiene  traccion delantera o no!"
   ]
  },
  {
   "cell_type": "code",
   "execution_count": null,
   "metadata": {
    "colab": {
     "base_uri": "https://localhost:8080/"
    },
    "id": "ykkMSmZSgZoQ",
    "outputId": "d3c56f27-1094-4271-a68f-69a2a9f9bc97"
   },
   "outputs": [
    {
     "data": {
      "text/plain": [
       "LogisticRegression(C=1.0, class_weight=None, dual=False, fit_intercept=True,\n",
       "                   intercept_scaling=1, l1_ratio=None, max_iter=100,\n",
       "                   multi_class='auto', n_jobs=None, penalty='l2',\n",
       "                   random_state=None, solver='lbfgs', tol=0.0001, verbose=0,\n",
       "                   warm_start=False)"
      ]
     },
     "execution_count": 55,
     "metadata": {},
     "output_type": "execute_result"
    }
   ],
   "source": [
    "#Entrenamos un modelo de regresión logística\n",
    "\n",
    "# Paso 3: importamos la clase LogisticRegresion de scikit-learn\n",
    "from sklearn.linear_model import LogisticRegression\n",
    "\n",
    "# Paso 4: Creamos una instancia de la Regresión Logística\n",
    "regresion_logistica = LogisticRegression()\n",
    "\n",
    "# Paso 5: Entrenamos la regresión logística con los datos de entrenamiento\n",
    "regresion_logistica.fit(X,y)"
   ]
  },
  {
   "cell_type": "code",
   "execution_count": null,
   "metadata": {
    "colab": {
     "base_uri": "https://localhost:8080/"
    },
    "id": "oPRatvAogZoR",
    "outputId": "787f263a-aebd-4dcc-f0eb-cc67e108e725"
   },
   "outputs": [
    {
     "name": "stdout",
     "output_type": "stream",
     "text": [
      "[1 1 1 1 1 0]\n"
     ]
    }
   ],
   "source": [
    "#Hacemos la predicción para: 1, 3, 5 ó 6 puertas de un automovil...\n",
    "\n",
    "X_nuevo = np.array([1, 2, 3, 4, 5, 6]).reshape(-1,1)\n",
    "\n",
    "# Paso 6: Usa el modelo entrenado para obtener las predicciones con datos nuevos\n",
    "\n",
    "prediccion = regresion_logistica.predict(X_nuevo)\n",
    "print(prediccion)\n",
    "\n",
    "#Insight: Como podemos observar  tiene  traccion delantera o no!"
   ]
  },
  {
   "cell_type": "code",
   "execution_count": null,
   "metadata": {
    "colab": {
     "base_uri": "https://localhost:8080/"
    },
    "id": "eeHiR6jqgZoS",
    "outputId": "0e96dc86-ed31-46b0-f4c0-07109d2fab90"
   },
   "outputs": [
    {
     "name": "stdout",
     "output_type": "stream",
     "text": [
      "[[0.71394992 0.28605008]\n",
      " [0.66297201 0.33702799]\n",
      " [0.43149607 0.56850393]\n",
      " [0.22652003 0.77347997]]\n"
     ]
    }
   ],
   "source": [
    "# Paso 7: Opcionalmente, obtenemos las probabilidades de la predicción\n",
    "probabilidades_prediccion = regresion_logistica.predict_proba(X_nuevo)\n",
    "print(probabilidades_prediccion)"
   ]
  },
  {
   "cell_type": "code",
   "execution_count": null,
   "metadata": {
    "colab": {
     "base_uri": "https://localhost:8080/"
    },
    "id": "mP9RruzXgZoT",
    "outputId": "9c12c8ff-af60-40af-f57c-efc11703b8ac"
   },
   "outputs": [
    {
     "name": "stdout",
     "output_type": "stream",
     "text": [
      "[0.28605008 0.33702799 0.56850393 0.77347997]\n"
     ]
    }
   ],
   "source": [
    "# Como seguramente estamos más interesados en la probabilidad de aprobar, podemos centrarnos en la segunda columna\n",
    "print(probabilidades_prediccion[:,1])"
   ]
  },
  {
   "cell_type": "markdown",
   "metadata": {
    "id": "qd2gnmvajqCb"
   },
   "source": []
  },
  {
   "cell_type": "markdown",
   "metadata": {
    "id": "rlA9XI9zjqOq"
   },
   "source": []
  },
  {
   "cell_type": "markdown",
   "metadata": {
    "id": "cnnJsjIWjqYT"
   },
   "source": []
  },
  {
   "cell_type": "markdown",
   "metadata": {
    "id": "DtFhUIz8jqg6"
   },
   "source": []
  },
  {
   "cell_type": "code",
   "execution_count": null,
   "metadata": {
    "colab": {
     "base_uri": "https://localhost:8080/",
     "height": 201
    },
    "id": "dQv3JDmaUn31",
    "outputId": "6f9a1ff0-6aad-4862-ee59-e70b50f2761e"
   },
   "outputs": [
    {
     "ename": "NameError",
     "evalue": "ignored",
     "output_type": "error",
     "traceback": [
      "\u001b[0;31m---------------------------------------------------------------------------\u001b[0m",
      "\u001b[0;31mNameError\u001b[0m                                 Traceback (most recent call last)",
      "\u001b[0;32m<ipython-input-34-1e9e2a7dec97>\u001b[0m in \u001b[0;36m<module>\u001b[0;34m()\u001b[0m\n\u001b[1;32m      3\u001b[0m \u001b[0;34m\u001b[0m\u001b[0m\n\u001b[1;32m      4\u001b[0m \u001b[0;31m# defining and fitting the model on the standardized dataset\u001b[0m\u001b[0;34m\u001b[0m\u001b[0;34m\u001b[0m\u001b[0;34m\u001b[0m\u001b[0m\n\u001b[0;32m----> 5\u001b[0;31m \u001b[0mlogreg_scaled\u001b[0m \u001b[0;34m=\u001b[0m \u001b[0mLogisticRegression\u001b[0m\u001b[0;34m(\u001b[0m\u001b[0mC\u001b[0m\u001b[0;34m=\u001b[0m\u001b[0;36m100\u001b[0m\u001b[0;34m)\u001b[0m\u001b[0;34m.\u001b[0m\u001b[0mfit\u001b[0m\u001b[0;34m(\u001b[0m\u001b[0mX_train_scaled\u001b[0m\u001b[0;34m,\u001b[0m \u001b[0my_train\u001b[0m\u001b[0;34m)\u001b[0m\u001b[0;34m\u001b[0m\u001b[0;34m\u001b[0m\u001b[0m\n\u001b[0m",
      "\u001b[0;31mNameError\u001b[0m: name 'X_train_scaled' is not defined"
     ]
    }
   ],
   "source": [
    "# defining and fitting the model on train dataset\n",
    "logreg = LogisticRegression(C=100).fit(X_train, y_train)\n",
    "\n",
    "# defining and fitting the model on the standardized dataset\n",
    "logreg_scaled = LogisticRegression(C=100).fit(X_train_scaled, y_train)"
   ]
  },
  {
   "cell_type": "markdown",
   "metadata": {
    "id": "onlCoGgtU6pm"
   },
   "source": [
    "Bien, el modelo está listo, ¡ahora veamos los resultados!\n",
    "\n"
   ]
  },
  {
   "cell_type": "markdown",
   "metadata": {
    "id": "CwCW3stCU-eM"
   },
   "source": [
    "#¿La estandarización de los datos afecta la precisión del modelo?\n",
    "Bueno, probablemente debido a un gran conjunto de datos, en absoluto. Veamos los resultados.\n",
    "\n"
   ]
  },
  {
   "cell_type": "markdown",
   "metadata": {
    "id": "_7K_ws5hV7FF"
   },
   "source": [
    "Resultados del conjunto de entrenamiento y prueba del modelo sin escala \n"
   ]
  },
  {
   "cell_type": "markdown",
   "metadata": {
    "id": "y14nBx9DV8ZB"
   },
   "source": [
    "Resultados del conjunto de entrenamiento y prueba del modelo escalado"
   ]
  },
  {
   "cell_type": "markdown",
   "metadata": {
    "id": "zzRXgop0WBrN"
   },
   "source": [
    "Contrariamente a nuestras expectativas, el resultado del entrenamiento no ha cambiado, mientras que el conjunto de prueba vio una pequeña disminución en la precisión.\n",
    "\n",
    "Estos números se ven bien, pero ciertamente sería mejor probar el modelo en un ejemplo real, ¿no?"
   ]
  },
  {
   "cell_type": "markdown",
   "metadata": {
    "id": "3nDQBtgfWJsl"
   },
   "source": [
    "Prueba nr. 1 (fuente: autor)\n"
   ]
  },
  {
   "cell_type": "markdown",
   "metadata": {
    "id": "6BR6cL0AWM0s"
   },
   "source": [
    "Prueba nr. 2 (fuente: autor)\n"
   ]
  },
  {
   "cell_type": "markdown",
   "metadata": {
    "id": "k6AIOXb2WTh-"
   },
   "source": [
    "Probé el modelo en dos autos, un Ford Fiesta Sport de 2016 y un BMW M5 de 2018 . Y para ambos coches, la predicción del modelo es correcta."
   ]
  },
  {
   "cell_type": "markdown",
   "metadata": {
    "id": "gt31jXvAWWHM"
   },
   "source": [
    "#Visualización de resultados\n",
    "Entonces nos preguntamos, ¿dónde está el límite entre los grupos de datos? Bueno, averigüémoslo.\n",
    "\n",
    "Hay dos formas de crear la trama. Uno incluye calcular la pendiente y la intersección de la línea de límite de decisión y trazarla como una gráfica de línea simple. El otro enfoque crea una cuadrícula de malla y traza el límite como un contorno que divide los datos en dos mitades."
   ]
  },
  {
   "cell_type": "markdown",
   "metadata": {
    "id": "Sc_X7GVsWb7O"
   },
   "source": [
    "Hay dos formas de crear la trama. Uno incluye calcular la pendiente y la intersección de la línea de límite de decisión y trazarla como una gráfica de línea simple. El otro enfoque crea una cuadrícula de malla y traza el límite como un contorno que divide los datos en dos mitades.\n",
    "\n",
    "Lo primero es lo primero, comenzamos con el enfoque más simple."
   ]
  },
  {
   "cell_type": "code",
   "execution_count": null,
   "metadata": {
    "id": "7QSIw959c_Tz"
   },
   "outputs": [],
   "source": [
    "# retreive the model parameters\n",
    "b = logreg.intercept_[0]\n",
    "w1, w2 = logreg.coef_.T\n",
    "\n",
    "# claculate the intercept and slope of the decision boundary\n",
    "intercept = -b/w2\n",
    "slope  = -w1/w2"
   ]
  },
  {
   "cell_type": "markdown",
   "metadata": {
    "id": "4qARpHAadCRF"
   },
   "source": [
    "Recuperamos los parámetros y luego calculamos la pendiente y la intersección del límite. Básicamente, estamos calculando una línea de regresión lineal, que describe la relación entre nuestro valor del eje X (desplazamiento) y el valor del eje Y (economía de combustible combinada)."
   ]
  },
  {
   "cell_type": "code",
   "execution_count": null,
   "metadata": {
    "id": "GK9jOrlHdGo7"
   },
   "outputs": [],
   "source": [
    "# creating the plot\n",
    "xmin, xmax = 0, 7.5\n",
    "ymin, ymax = 0, 60\n",
    "\n",
    "xd = np.array([xmin, xmax])\n",
    "yd = slope * xd + intercept\n",
    "\n",
    "plt.plot(xd, yd, ls='--', c='grey')\n",
    "plt.fill_between(xd, yd, ymin, color='red', alpha=0.1)\n",
    "plt.fill_between(xd, yd, ymax, color='blue', alpha=0.1)\n",
    "\n",
    "scatter = plt.scatter(X[\"displ\"][:], X[\"comb\"][:], c=y[:], s = 50, cmap = \"RdBu\", \n",
    "          vmin = -0.2, vmax = 1.2, edgecolor = \"white\", linewidth = 0.9)\n",
    "\n",
    "plt.xlim(xmin, xmax)\n",
    "plt.ylim(ymin, ymax)\n",
    "\n",
    "plt.xlabel(\"Displacement [l]\")\n",
    "plt.ylabel(\"Combined fuel economy [mpg]\")\n",
    "plt.legend(*scatter.legend_elements())\n",
    "\n",
    "plt.show()"
   ]
  },
  {
   "cell_type": "markdown",
   "metadata": {
    "id": "uIosqo-cdLMN"
   },
   "source": [
    "Gráfica de límites de decisión usando plt.plot (fuente: autor)\n"
   ]
  },
  {
   "cell_type": "markdown",
   "metadata": {
    "id": "g_3YYsJIdTus"
   },
   "source": [
    "Nuevamente, la etiqueta 1 representa la clase positiva (automóviles con tracción delantera), mientras que la etiqueta 0 representa todos los demás automóviles (clase negativa), en este caso, automóviles con tracción trasera y con tracción total.\n",
    "\n",
    "La segunda forma de trazar el límite es mediante el método de contorno. Primero, se define una cuadrícula de malla, donde se define el mínimo y el máximo para ambas características (desplazamiento y economía de combustible combinada). Numpy.c_ concatena la matriz a lo largo del segundo eje. Y se calculan las probabilidades de cada punto de la cuadrícula. Es importante entender aquí que usamos nuestro modelo logreg aquí, cuyo propósito es visualizar la pendiente y la intersección ."
   ]
  },
  {
   "cell_type": "code",
   "execution_count": null,
   "metadata": {
    "id": "OvFs27nodX60"
   },
   "outputs": [],
   "source": [
    "# definind the mesh grid and calculating the probabilities\n",
    "xx, yy = np.mgrid[0:7.5:0.01, 0:60:0.05]\n",
    "grid = np.c_[xx.ravel(), yy.ravel()]\n",
    "probabilities = logreg.predict_proba(grid)[:, 1].reshape(xx.shape)"
   ]
  },
  {
   "cell_type": "markdown",
   "metadata": {
    "id": "7pJ9M8C1ddOj"
   },
   "source": [
    "A continuación, necesitamos definir la trama."
   ]
  },
  {
   "cell_type": "code",
   "execution_count": null,
   "metadata": {
    "id": "_7yw9PjKdlik"
   },
   "outputs": [],
   "source": [
    "# defining the boundary line plot\n",
    "f, ax = plt.subplots(figsize=(8,6))\n",
    "ax.contour(xx, yy, probabilities, levels = [0.5], \n",
    "                      cmap = \"Greys\", vmin =0, vmax = 1, linewidths = 2, linestyles = \"dashed\")\n",
    "\n",
    "ax.contourf(xx, yy, probabilities, levels = [0.5,  1], \n",
    "                      cmap = \"Blues\", vmin =0, vmax = 1, alpha = 0.2)\n",
    "\n",
    "ax.contourf(xx, yy, probabilities, levels = [0, 0.5], \n",
    "                      cmap = \"Reds\", vmin =0, vmax = 1, alpha = 0.2)\n",
    "\n",
    "scatter = ax.scatter(X[\"displ\"][:], X[\"comb\"][:], c=y[:], s = 50, cmap = \"RdBu\", \n",
    "          vmin = -0.2, vmax = 1.2, edgecolor = \"white\", linewidth = 0.9)\n",
    "\n",
    "ax.set(xlabel = \"Displacement [l]\", ylabel = \"Combined fuel economy [mpg]\")\n",
    "ax.legend(*scatter.legend_elements());"
   ]
  },
  {
   "cell_type": "markdown",
   "metadata": {
    "id": "-jOYeYz9dpuf"
   },
   "source": [
    "Gráfica de límites de decisión usando el método de contorno"
   ]
  },
  {
   "cell_type": "markdown",
   "metadata": {
    "id": "x3jLEQ7pdslT"
   },
   "source": [
    "Para mostrar la línea de límite, solo mostramos la línea de contorno que intercepta el 50% de probabilidad de que un automóvil sea impulsado por las ruedas delanteras. Se predice que todos los autos por encima de la línea serán de tracción delantera ( clase positiva 1 ), mientras que se predice que todos los autos debajo de la línea NO SERÁN de tracción delantera, por lo que son de tracción trasera o de tracción total.\n",
    "\n",
    "También podemos agregar probabilidad como un color a nuestro gráfico. Esto puede ayudar en la identificación visual de la probabilidad, por lo que se puede evaluar la probabilidad sin ejecutar el modelo o calcular la probabilidad exacta.\n",
    "\n",
    "Aquí está el código:"
   ]
  },
  {
   "cell_type": "code",
   "execution_count": null,
   "metadata": {
    "id": "bXyRFCm-dvyt"
   },
   "outputs": [],
   "source": [
    "# ploting probability\n",
    "f, ax = plt.subplots(figsize=(8,6))\n",
    "contour = ax.contourf(xx, yy, probabilities, 100, \n",
    "                      cmap = \"RdBu\", vmin =0, vmax = 1)\n",
    "\n",
    "ax_c = f.colorbar(contour)\n",
    "ax_c.set_ticks([0, 0.25, 0.5, 0.75, 1.00])\n",
    "ax_c.set_label(\"P (Front-wheel driven) %\")\n",
    "\n",
    "ax.scatter(X[\"displ\"][:], X[\"comb\"][:], c=y[:], s = 30, cmap = \"RdBu\", \n",
    "          vmin = -0.2, vmax = 1.2, edgecolor = \"white\", linewidth = 0.9) \n",
    "\n",
    "ax.set(xlabel = \"Displacement [l]\", ylabel = \"Combined fuel economy [mpg]\");"
   ]
  },
  {
   "cell_type": "markdown",
   "metadata": {
    "id": "IHWWRpfed5pz"
   },
   "source": [
    "Probabilidades trazadas como mapa de contorno"
   ]
  },
  {
   "cell_type": "markdown",
   "metadata": {
    "id": "Vi08JnDjd0Pc"
   },
   "source": [
    "Debo señalar, que aquí tenemos 2 características, también tenemos un diagrama de 2 dimensiones. Más características agregarían dimensionalidad a la trama."
   ]
  },
  {
   "cell_type": "markdown",
   "metadata": {
    "id": "T6SnM_AbVDaR"
   },
   "source": [
    "# Conclusión"
   ]
  },
  {
   "cell_type": "markdown",
   "metadata": {
    "id": "NBFeUeTkVDaR"
   },
   "source": [
    "A continuación, presentamos un ejemplo de cómo se puede utilizar la regresión logística para predecir la conducción de un automóvil de acuerdo con su Precio USD y cantidad de puertas combinadas. Además, se evalúa una técnica de estandarización de datos. Para este conjunto de datos en particular, la estandarización no tiene ningún efecto sobre la precisión del modelo.\n",
    "\n",
    "El límite de decisión entre los dos grupos de datos de etiquetas (automóviles con tracción delantera y sin tracción delantera) se ha calculado y trazado utilizando dos técnicas. Además, se ha agregado un gráfico de mapa de contorno de las probabilidades."
   ]
  }
 ],
 "metadata": {
  "colab": {
   "collapsed_sections": [],
   "name": "Algoritmos de Clasificación Il_ Proyecto Final_Carranza_Delgado_ .ipynb",
   "provenance": []
  },
  "kernelspec": {
   "display_name": "Python 3",
   "language": "python",
   "name": "python3"
  },
  "language_info": {
   "codemirror_mode": {
    "name": "ipython",
    "version": 3
   },
   "file_extension": ".py",
   "mimetype": "text/x-python",
   "name": "python",
   "nbconvert_exporter": "python",
   "pygments_lexer": "ipython3",
   "version": "3.8.8"
  }
 },
 "nbformat": 4,
 "nbformat_minor": 4
}
